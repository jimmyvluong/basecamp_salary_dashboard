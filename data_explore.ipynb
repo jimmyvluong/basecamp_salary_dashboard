{
 "cells": [
  {
   "cell_type": "code",
   "execution_count": 1,
   "metadata": {},
   "outputs": [],
   "source": [
    "import pandas as pd\n",
    "import datetime as dt"
   ]
  },
  {
   "cell_type": "code",
   "execution_count": 2,
   "metadata": {},
   "outputs": [],
   "source": [
    "from config import sheet_id, sheet_name"
   ]
  },
  {
   "cell_type": "code",
   "execution_count": 3,
   "metadata": {},
   "outputs": [
    {
     "data": {
      "text/plain": [
       "'c:\\\\Users\\\\jluong\\\\OneDrive - CSU Office of the Chancellor\\\\Documents\\\\Basecamp New\\\\basecamp_salary_dashboard'"
      ]
     },
     "execution_count": 3,
     "metadata": {},
     "output_type": "execute_result"
    }
   ],
   "source": [
    "import os\n",
    "os.getcwd()"
   ]
  },
  {
   "cell_type": "code",
   "execution_count": 4,
   "metadata": {},
   "outputs": [],
   "source": [
    "# import sheet_id and sheet_name from a local config file\n",
    "sheet_id = sheet_id\n",
    "sheet_name = sheet_name\n",
    "url = f\"https://docs.google.com/spreadsheets/d/{sheet_id}/gviz/tq?tqx=out:csv&sheet={sheet_name}\"\n",
    "# replace whitespace in the URL\n",
    "url = url.replace(\" \", \"%20\")"
   ]
  },
  {
   "cell_type": "code",
   "execution_count": 5,
   "metadata": {},
   "outputs": [],
   "source": [
    "# specify columns to read in (all but the \"Company Name\" column)\n",
    "df_raw = pd.read_csv(url, usecols = lambda x: x != \"Company Name\", parse_dates = ['Submitted At'])"
   ]
  },
  {
   "cell_type": "code",
   "execution_count": 6,
   "metadata": {},
   "outputs": [
    {
     "data": {
      "text/html": [
       "<div>\n",
       "<style scoped>\n",
       "    .dataframe tbody tr th:only-of-type {\n",
       "        vertical-align: middle;\n",
       "    }\n",
       "\n",
       "    .dataframe tbody tr th {\n",
       "        vertical-align: top;\n",
       "    }\n",
       "\n",
       "    .dataframe thead th {\n",
       "        text-align: right;\n",
       "    }\n",
       "</style>\n",
       "<table border=\"1\" class=\"dataframe\">\n",
       "  <thead>\n",
       "    <tr style=\"text-align: right;\">\n",
       "      <th></th>\n",
       "      <th>I am a:</th>\n",
       "      <th>Industry</th>\n",
       "      <th>Job Title</th>\n",
       "      <th>Location</th>\n",
       "      <th>Flexibility</th>\n",
       "      <th># Years</th>\n",
       "      <th>Pay</th>\n",
       "      <th>I charge per:</th>\n",
       "      <th>Bonuses/ Commissions</th>\n",
       "      <th>Equity</th>\n",
       "      <th>...</th>\n",
       "      <th>Specialty expertise</th>\n",
       "      <th>Field of work</th>\n",
       "      <th>City</th>\n",
       "      <th>Government role?</th>\n",
       "      <th>Parental leave</th>\n",
       "      <th>Pronouns</th>\n",
       "      <th>Race/Ethnicity</th>\n",
       "      <th>I identify as part of the following communities</th>\n",
       "      <th>Submitted At</th>\n",
       "      <th>Token</th>\n",
       "    </tr>\n",
       "  </thead>\n",
       "  <tbody>\n",
       "    <tr>\n",
       "      <th>0</th>\n",
       "      <td>Full-Time Employee</td>\n",
       "      <td>Active Lifestyle</td>\n",
       "      <td>North America Marketing Manager</td>\n",
       "      <td>Oregon</td>\n",
       "      <td>Hybrid/Work From Home</td>\n",
       "      <td>15+</td>\n",
       "      <td>95000</td>\n",
       "      <td>/Year</td>\n",
       "      <td>10000.0</td>\n",
       "      <td>False</td>\n",
       "      <td>...</td>\n",
       "      <td>NaN</td>\n",
       "      <td>Marketing &amp; Branding</td>\n",
       "      <td>Portland, OR</td>\n",
       "      <td>Nope</td>\n",
       "      <td>6 months</td>\n",
       "      <td>She/Her</td>\n",
       "      <td>NaN</td>\n",
       "      <td>LGBTQIA2S+, Woman</td>\n",
       "      <td>2022-10-29 22:59:19</td>\n",
       "      <td>4uhvwonebzd2xry77gpme4uhvwn6pmnd</td>\n",
       "    </tr>\n",
       "    <tr>\n",
       "      <th>1</th>\n",
       "      <td>Full-Time Employee</td>\n",
       "      <td>Running</td>\n",
       "      <td>PR Director</td>\n",
       "      <td>Colorado</td>\n",
       "      <td>Fully Remote</td>\n",
       "      <td>8</td>\n",
       "      <td>165000</td>\n",
       "      <td>/Year</td>\n",
       "      <td>NaN</td>\n",
       "      <td>True</td>\n",
       "      <td>...</td>\n",
       "      <td>NaN</td>\n",
       "      <td>PR &amp; Communications</td>\n",
       "      <td>Denver</td>\n",
       "      <td>Nope</td>\n",
       "      <td>3 months</td>\n",
       "      <td>He/Him</td>\n",
       "      <td>Latino/Hispanic</td>\n",
       "      <td>LGBTQIA2S+</td>\n",
       "      <td>2022-10-29 22:56:19</td>\n",
       "      <td>9c19jk3coesvcdu9c19px0ltwrzj1cbn</td>\n",
       "    </tr>\n",
       "    <tr>\n",
       "      <th>2</th>\n",
       "      <td>Full-Time Employee</td>\n",
       "      <td>Travel/Tourism</td>\n",
       "      <td>Vice President of Brand Marketing</td>\n",
       "      <td>California</td>\n",
       "      <td>Fully Remote</td>\n",
       "      <td>5</td>\n",
       "      <td>150000</td>\n",
       "      <td>/Year</td>\n",
       "      <td>4000.0</td>\n",
       "      <td>False</td>\n",
       "      <td>...</td>\n",
       "      <td>Visual / Graphic Design, Project Management, M...</td>\n",
       "      <td>Hospitality &amp; Adventure Tourism</td>\n",
       "      <td>San Francisco</td>\n",
       "      <td>Nope</td>\n",
       "      <td>2 months</td>\n",
       "      <td>She/Her</td>\n",
       "      <td>NaN</td>\n",
       "      <td>Woman</td>\n",
       "      <td>2022-10-29 22:23:42</td>\n",
       "      <td>7bnz7dq3fbcyg3xf0vzx97bnz7pn3bij</td>\n",
       "    </tr>\n",
       "    <tr>\n",
       "      <th>3</th>\n",
       "      <td>Full-Time Employee</td>\n",
       "      <td>Bike</td>\n",
       "      <td>Store Manager</td>\n",
       "      <td>Pennsylvania</td>\n",
       "      <td>In-Office</td>\n",
       "      <td>6</td>\n",
       "      <td>66000</td>\n",
       "      <td>/Year</td>\n",
       "      <td>15000.0</td>\n",
       "      <td>True</td>\n",
       "      <td>...</td>\n",
       "      <td>Retail management, outdoor leadership,</td>\n",
       "      <td>Retail</td>\n",
       "      <td>Philadelphia</td>\n",
       "      <td>Nope</td>\n",
       "      <td>2 months</td>\n",
       "      <td>He/Him</td>\n",
       "      <td>NaN</td>\n",
       "      <td>NaN</td>\n",
       "      <td>2022-10-29 22:14:55</td>\n",
       "      <td>mzpxp2psypsbtt1hcespgmzpxp2p7arl</td>\n",
       "    </tr>\n",
       "    <tr>\n",
       "      <th>4</th>\n",
       "      <td>Full-Time Employee</td>\n",
       "      <td>Bike</td>\n",
       "      <td>People Ops</td>\n",
       "      <td>Oregon</td>\n",
       "      <td>Fully Remote</td>\n",
       "      <td>4</td>\n",
       "      <td>80000</td>\n",
       "      <td>/Year</td>\n",
       "      <td>0.0</td>\n",
       "      <td>False</td>\n",
       "      <td>...</td>\n",
       "      <td>Master's Degree; Two certifications to facilit...</td>\n",
       "      <td>Human Resources (seems like it should be an op...</td>\n",
       "      <td>Bend, OR</td>\n",
       "      <td>Nope</td>\n",
       "      <td>1 months</td>\n",
       "      <td>She/Her</td>\n",
       "      <td>NaN</td>\n",
       "      <td>50+, LGBTQIA2S+, Woman</td>\n",
       "      <td>2022-10-29 21:58:27</td>\n",
       "      <td>8xv58qt6gkciedqai2v8xv58qt69tmh2</td>\n",
       "    </tr>\n",
       "  </tbody>\n",
       "</table>\n",
       "<p>5 rows × 26 columns</p>\n",
       "</div>"
      ],
      "text/plain": [
       "              I am a:          Industry                          Job Title  \\\n",
       "0  Full-Time Employee  Active Lifestyle    North America Marketing Manager   \n",
       "1  Full-Time Employee           Running                        PR Director   \n",
       "2  Full-Time Employee    Travel/Tourism  Vice President of Brand Marketing   \n",
       "3  Full-Time Employee              Bike                      Store Manager   \n",
       "4  Full-Time Employee              Bike                         People Ops   \n",
       "\n",
       "       Location            Flexibility # Years     Pay I charge per:  \\\n",
       "0        Oregon  Hybrid/Work From Home     15+   95000         /Year   \n",
       "1      Colorado           Fully Remote       8  165000         /Year   \n",
       "2    California           Fully Remote       5  150000         /Year   \n",
       "3  Pennsylvania              In-Office       6   66000         /Year   \n",
       "4        Oregon           Fully Remote       4   80000         /Year   \n",
       "\n",
       "   Bonuses/ Commissions Equity  ...  \\\n",
       "0               10000.0  False  ...   \n",
       "1                   NaN   True  ...   \n",
       "2                4000.0  False  ...   \n",
       "3               15000.0   True  ...   \n",
       "4                   0.0  False  ...   \n",
       "\n",
       "                                 Specialty expertise  \\\n",
       "0                                                NaN   \n",
       "1                                                NaN   \n",
       "2  Visual / Graphic Design, Project Management, M...   \n",
       "3             Retail management, outdoor leadership,   \n",
       "4  Master's Degree; Two certifications to facilit...   \n",
       "\n",
       "                                       Field of work           City  \\\n",
       "0                               Marketing & Branding   Portland, OR   \n",
       "1                                PR & Communications         Denver   \n",
       "2                    Hospitality & Adventure Tourism  San Francisco   \n",
       "3                                             Retail   Philadelphia   \n",
       "4  Human Resources (seems like it should be an op...       Bend, OR   \n",
       "\n",
       "  Government role? Parental leave  Pronouns   Race/Ethnicity  \\\n",
       "0             Nope        6 months  She/Her              NaN   \n",
       "1             Nope        3 months   He/Him  Latino/Hispanic   \n",
       "2             Nope        2 months  She/Her              NaN   \n",
       "3             Nope        2 months   He/Him              NaN   \n",
       "4             Nope        1 months  She/Her              NaN   \n",
       "\n",
       "  I identify as part of the following communities        Submitted At  \\\n",
       "0                               LGBTQIA2S+, Woman 2022-10-29 22:59:19   \n",
       "1                                      LGBTQIA2S+ 2022-10-29 22:56:19   \n",
       "2                                           Woman 2022-10-29 22:23:42   \n",
       "3                                             NaN 2022-10-29 22:14:55   \n",
       "4                          50+, LGBTQIA2S+, Woman 2022-10-29 21:58:27   \n",
       "\n",
       "                              Token  \n",
       "0  4uhvwonebzd2xry77gpme4uhvwn6pmnd  \n",
       "1  9c19jk3coesvcdu9c19px0ltwrzj1cbn  \n",
       "2  7bnz7dq3fbcyg3xf0vzx97bnz7pn3bij  \n",
       "3  mzpxp2psypsbtt1hcespgmzpxp2p7arl  \n",
       "4  8xv58qt6gkciedqai2v8xv58qt69tmh2  \n",
       "\n",
       "[5 rows x 26 columns]"
      ]
     },
     "execution_count": 6,
     "metadata": {},
     "output_type": "execute_result"
    }
   ],
   "source": [
    "df_raw.head()"
   ]
  },
  {
   "cell_type": "code",
   "execution_count": 7,
   "metadata": {},
   "outputs": [],
   "source": [
    "df = df_raw.copy(deep = True)"
   ]
  },
  {
   "cell_type": "code",
   "execution_count": 8,
   "metadata": {},
   "outputs": [
    {
     "data": {
      "text/plain": [
       "Index(['I am a:', 'Industry', 'Job Title', 'Location', 'Flexibility',\n",
       "       '# Years', 'Pay', 'I charge per:', 'Bonuses/ Commissions', 'Equity',\n",
       "       'PTO', 'Training/Education', 'Add'l Qs', 'Benefits', 'OTJ Experience',\n",
       "       'Starting Pay', 'Specialty expertise', 'Field of work', 'City',\n",
       "       'Government role?', 'Parental leave ', 'Pronouns', 'Race/Ethnicity',\n",
       "       'I identify as part of the following communities', 'Submitted At',\n",
       "       'Token'],\n",
       "      dtype='object')"
      ]
     },
     "execution_count": 8,
     "metadata": {},
     "output_type": "execute_result"
    }
   ],
   "source": [
    "df.columns"
   ]
  },
  {
   "cell_type": "code",
   "execution_count": 9,
   "metadata": {},
   "outputs": [],
   "source": [
    "# general syntax of loc\n",
    "# df.loc['row_label', 'column_label']\n",
    "\n",
    "# If there are multiple labels, they should be specified inside lists:\n",
    "# df.loc[['row_1', 'row_2'], ['column_1', 'column_2']]\n"
   ]
  },
  {
   "cell_type": "code",
   "execution_count": 10,
   "metadata": {},
   "outputs": [],
   "source": [
    "columns_wanted = ['I am a:', 'Industry', 'Location', 'Flexibility', '# Years', 'Pay', 'I charge per:', 'Field of work', 'Submitted At']"
   ]
  },
  {
   "cell_type": "code",
   "execution_count": 11,
   "metadata": {},
   "outputs": [],
   "source": [
    "df_subset = df.loc[:, columns_wanted]"
   ]
  },
  {
   "cell_type": "code",
   "execution_count": 12,
   "metadata": {},
   "outputs": [
    {
     "data": {
      "text/html": [
       "<div>\n",
       "<style scoped>\n",
       "    .dataframe tbody tr th:only-of-type {\n",
       "        vertical-align: middle;\n",
       "    }\n",
       "\n",
       "    .dataframe tbody tr th {\n",
       "        vertical-align: top;\n",
       "    }\n",
       "\n",
       "    .dataframe thead th {\n",
       "        text-align: right;\n",
       "    }\n",
       "</style>\n",
       "<table border=\"1\" class=\"dataframe\">\n",
       "  <thead>\n",
       "    <tr style=\"text-align: right;\">\n",
       "      <th></th>\n",
       "      <th>I am a:</th>\n",
       "      <th>Industry</th>\n",
       "      <th>Location</th>\n",
       "      <th>Flexibility</th>\n",
       "      <th># Years</th>\n",
       "      <th>Pay</th>\n",
       "      <th>I charge per:</th>\n",
       "      <th>Field of work</th>\n",
       "      <th>Submitted At</th>\n",
       "    </tr>\n",
       "  </thead>\n",
       "  <tbody>\n",
       "    <tr>\n",
       "      <th>0</th>\n",
       "      <td>Full-Time Employee</td>\n",
       "      <td>Active Lifestyle</td>\n",
       "      <td>Oregon</td>\n",
       "      <td>Hybrid/Work From Home</td>\n",
       "      <td>15+</td>\n",
       "      <td>95000</td>\n",
       "      <td>/Year</td>\n",
       "      <td>Marketing &amp; Branding</td>\n",
       "      <td>2022-10-29 22:59:19</td>\n",
       "    </tr>\n",
       "    <tr>\n",
       "      <th>1</th>\n",
       "      <td>Full-Time Employee</td>\n",
       "      <td>Running</td>\n",
       "      <td>Colorado</td>\n",
       "      <td>Fully Remote</td>\n",
       "      <td>8</td>\n",
       "      <td>165000</td>\n",
       "      <td>/Year</td>\n",
       "      <td>PR &amp; Communications</td>\n",
       "      <td>2022-10-29 22:56:19</td>\n",
       "    </tr>\n",
       "    <tr>\n",
       "      <th>2</th>\n",
       "      <td>Full-Time Employee</td>\n",
       "      <td>Travel/Tourism</td>\n",
       "      <td>California</td>\n",
       "      <td>Fully Remote</td>\n",
       "      <td>5</td>\n",
       "      <td>150000</td>\n",
       "      <td>/Year</td>\n",
       "      <td>Hospitality &amp; Adventure Tourism</td>\n",
       "      <td>2022-10-29 22:23:42</td>\n",
       "    </tr>\n",
       "    <tr>\n",
       "      <th>3</th>\n",
       "      <td>Full-Time Employee</td>\n",
       "      <td>Bike</td>\n",
       "      <td>Pennsylvania</td>\n",
       "      <td>In-Office</td>\n",
       "      <td>6</td>\n",
       "      <td>66000</td>\n",
       "      <td>/Year</td>\n",
       "      <td>Retail</td>\n",
       "      <td>2022-10-29 22:14:55</td>\n",
       "    </tr>\n",
       "    <tr>\n",
       "      <th>4</th>\n",
       "      <td>Full-Time Employee</td>\n",
       "      <td>Bike</td>\n",
       "      <td>Oregon</td>\n",
       "      <td>Fully Remote</td>\n",
       "      <td>4</td>\n",
       "      <td>80000</td>\n",
       "      <td>/Year</td>\n",
       "      <td>Human Resources (seems like it should be an op...</td>\n",
       "      <td>2022-10-29 21:58:27</td>\n",
       "    </tr>\n",
       "  </tbody>\n",
       "</table>\n",
       "</div>"
      ],
      "text/plain": [
       "              I am a:          Industry      Location            Flexibility  \\\n",
       "0  Full-Time Employee  Active Lifestyle        Oregon  Hybrid/Work From Home   \n",
       "1  Full-Time Employee           Running      Colorado           Fully Remote   \n",
       "2  Full-Time Employee    Travel/Tourism    California           Fully Remote   \n",
       "3  Full-Time Employee              Bike  Pennsylvania              In-Office   \n",
       "4  Full-Time Employee              Bike        Oregon           Fully Remote   \n",
       "\n",
       "  # Years     Pay I charge per:  \\\n",
       "0     15+   95000         /Year   \n",
       "1       8  165000         /Year   \n",
       "2       5  150000         /Year   \n",
       "3       6   66000         /Year   \n",
       "4       4   80000         /Year   \n",
       "\n",
       "                                       Field of work        Submitted At  \n",
       "0                               Marketing & Branding 2022-10-29 22:59:19  \n",
       "1                                PR & Communications 2022-10-29 22:56:19  \n",
       "2                    Hospitality & Adventure Tourism 2022-10-29 22:23:42  \n",
       "3                                             Retail 2022-10-29 22:14:55  \n",
       "4  Human Resources (seems like it should be an op... 2022-10-29 21:58:27  "
      ]
     },
     "execution_count": 12,
     "metadata": {},
     "output_type": "execute_result"
    }
   ],
   "source": [
    "df_subset.head()"
   ]
  },
  {
   "cell_type": "code",
   "execution_count": 13,
   "metadata": {},
   "outputs": [
    {
     "data": {
      "text/plain": [
       "I am a:                  object\n",
       "Industry                 object\n",
       "Location                 object\n",
       "Flexibility              object\n",
       "# Years                  object\n",
       "Pay                       int64\n",
       "I charge per:            object\n",
       "Field of work            object\n",
       "Submitted At     datetime64[ns]\n",
       "dtype: object"
      ]
     },
     "execution_count": 13,
     "metadata": {},
     "output_type": "execute_result"
    }
   ],
   "source": [
    "df_subset.dtypes"
   ]
  },
  {
   "cell_type": "code",
   "execution_count": 14,
   "metadata": {},
   "outputs": [],
   "source": [
    "# Extract the Year from the Submitted At column\n",
    "df_subset['Year'] = df_subset['Submitted At'].dt.strftime('%Y')"
   ]
  },
  {
   "cell_type": "code",
   "execution_count": 15,
   "metadata": {},
   "outputs": [],
   "source": [
    "# Rename columns\n",
    "df_subset.rename(columns = {\"# Years\": \"Years of Experience\"}, inplace = True)"
   ]
  },
  {
   "cell_type": "code",
   "execution_count": 16,
   "metadata": {},
   "outputs": [],
   "source": [
    "df_subset.to_csv(\"salary_data.csv\")"
   ]
  },
  {
   "cell_type": "code",
   "execution_count": 17,
   "metadata": {},
   "outputs": [
    {
     "data": {
      "text/plain": [
       "count       920.000000\n",
       "mean      57712.026087\n",
       "std       44773.733138\n",
       "min           0.000000\n",
       "25%       30000.000000\n",
       "50%       58000.000000\n",
       "75%       80000.000000\n",
       "max      403950.000000\n",
       "Name: Pay, dtype: float64"
      ]
     },
     "execution_count": 17,
     "metadata": {},
     "output_type": "execute_result"
    }
   ],
   "source": [
    "df_subset.Pay.describe()"
   ]
  },
  {
   "cell_type": "code",
   "execution_count": 18,
   "metadata": {},
   "outputs": [
    {
     "data": {
      "text/plain": [
       "0      2022\n",
       "1      2022\n",
       "2      2022\n",
       "3      2022\n",
       "4      2022\n",
       "       ... \n",
       "915    2023\n",
       "916    2023\n",
       "917    2023\n",
       "918    2023\n",
       "919    2023\n",
       "Name: Year, Length: 920, dtype: object"
      ]
     },
     "execution_count": 18,
     "metadata": {},
     "output_type": "execute_result"
    }
   ],
   "source": [
    "df_subset.Year"
   ]
  }
 ],
 "metadata": {
  "kernelspec": {
   "display_name": "minimal_ds",
   "language": "python",
   "name": "python3"
  },
  "language_info": {
   "codemirror_mode": {
    "name": "ipython",
    "version": 3
   },
   "file_extension": ".py",
   "mimetype": "text/x-python",
   "name": "python",
   "nbconvert_exporter": "python",
   "pygments_lexer": "ipython3",
   "version": "3.10.2"
  },
  "orig_nbformat": 4
 },
 "nbformat": 4,
 "nbformat_minor": 2
}
