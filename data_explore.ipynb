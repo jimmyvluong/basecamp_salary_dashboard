{
 "cells": [
  {
   "cell_type": "code",
   "execution_count": 51,
   "metadata": {},
   "outputs": [],
   "source": [
    "import pandas as pd\n",
    "import datetime as dt\n",
    "import numpy as np"
   ]
  },
  {
   "cell_type": "code",
   "execution_count": 52,
   "metadata": {},
   "outputs": [],
   "source": [
    "#from ydata_profiling import ProfileReport"
   ]
  },
  {
   "cell_type": "code",
   "execution_count": 53,
   "metadata": {},
   "outputs": [],
   "source": [
    "from config import sheet_id, sheet_name"
   ]
  },
  {
   "cell_type": "code",
   "execution_count": 54,
   "metadata": {},
   "outputs": [
    {
     "data": {
      "text/plain": [
       "'c:\\\\Users\\\\jimmy\\\\Documents\\\\Data Science Folder\\\\basecamp_salary_dashboard'"
      ]
     },
     "execution_count": 54,
     "metadata": {},
     "output_type": "execute_result"
    }
   ],
   "source": [
    "import os\n",
    "os.getcwd()"
   ]
  },
  {
   "cell_type": "code",
   "execution_count": 55,
   "metadata": {},
   "outputs": [],
   "source": [
    "# import sheet_id and sheet_name from a local config file\n",
    "sheet_id = sheet_id\n",
    "sheet_name = sheet_name\n",
    "url = f\"https://docs.google.com/spreadsheets/d/{sheet_id}/gviz/tq?tqx=out:csv&sheet={sheet_name}\"\n",
    "# replace whitespace in the URL\n",
    "url = url.replace(\" \", \"%20\")"
   ]
  },
  {
   "cell_type": "code",
   "execution_count": 56,
   "metadata": {},
   "outputs": [],
   "source": [
    "# specify columns to read in (all but the \"Company Name\" column)\n",
    "# parse_dates argument tells us which column is a datetime field\n",
    "df_raw = pd.read_csv(url, usecols = lambda x: x != \"Company Name\", parse_dates = ['Submitted At'])"
   ]
  },
  {
   "cell_type": "code",
   "execution_count": 57,
   "metadata": {},
   "outputs": [
    {
     "data": {
      "text/html": [
       "<div>\n",
       "<style scoped>\n",
       "    .dataframe tbody tr th:only-of-type {\n",
       "        vertical-align: middle;\n",
       "    }\n",
       "\n",
       "    .dataframe tbody tr th {\n",
       "        vertical-align: top;\n",
       "    }\n",
       "\n",
       "    .dataframe thead th {\n",
       "        text-align: right;\n",
       "    }\n",
       "</style>\n",
       "<table border=\"1\" class=\"dataframe\">\n",
       "  <thead>\n",
       "    <tr style=\"text-align: right;\">\n",
       "      <th></th>\n",
       "      <th>I am a:</th>\n",
       "      <th>Industry</th>\n",
       "      <th>Job Title</th>\n",
       "      <th>Location</th>\n",
       "      <th>Flexibility</th>\n",
       "      <th># Years</th>\n",
       "      <th>Pay</th>\n",
       "      <th>I charge per:</th>\n",
       "      <th>Bonuses/ Commissions</th>\n",
       "      <th>Equity</th>\n",
       "      <th>...</th>\n",
       "      <th>Field of work</th>\n",
       "      <th>City</th>\n",
       "      <th>Government role?</th>\n",
       "      <th>Parental leave</th>\n",
       "      <th>Pronouns</th>\n",
       "      <th>Race/Ethnicity</th>\n",
       "      <th>I identify as part of the following communities</th>\n",
       "      <th>Submitted At</th>\n",
       "      <th>Token</th>\n",
       "      <th>Unnamed: 27</th>\n",
       "    </tr>\n",
       "  </thead>\n",
       "  <tbody>\n",
       "    <tr>\n",
       "      <th>0</th>\n",
       "      <td>Full-Time Employee</td>\n",
       "      <td>Active Lifestyle</td>\n",
       "      <td>North America Marketing Manager</td>\n",
       "      <td>Oregon</td>\n",
       "      <td>Hybrid/Work From Home</td>\n",
       "      <td>15+</td>\n",
       "      <td>95000</td>\n",
       "      <td>/Year</td>\n",
       "      <td>10000.0</td>\n",
       "      <td>False</td>\n",
       "      <td>...</td>\n",
       "      <td>Marketing &amp; Branding</td>\n",
       "      <td>Portland, OR</td>\n",
       "      <td>Nope</td>\n",
       "      <td>6 months</td>\n",
       "      <td>She/Her</td>\n",
       "      <td>NaN</td>\n",
       "      <td>LGBTQIA2S+, Woman</td>\n",
       "      <td>2022-10-29 22:59:19</td>\n",
       "      <td>4uhvwonebzd2xry77gpme4uhvwn6pmnd</td>\n",
       "      <td>NaN</td>\n",
       "    </tr>\n",
       "    <tr>\n",
       "      <th>1</th>\n",
       "      <td>Full-Time Employee</td>\n",
       "      <td>Running</td>\n",
       "      <td>PR Director</td>\n",
       "      <td>Colorado</td>\n",
       "      <td>Fully Remote</td>\n",
       "      <td>8</td>\n",
       "      <td>165000</td>\n",
       "      <td>/Year</td>\n",
       "      <td>NaN</td>\n",
       "      <td>True</td>\n",
       "      <td>...</td>\n",
       "      <td>PR &amp; Communications</td>\n",
       "      <td>Denver</td>\n",
       "      <td>Nope</td>\n",
       "      <td>3 months</td>\n",
       "      <td>He/Him</td>\n",
       "      <td>Latino/Hispanic</td>\n",
       "      <td>LGBTQIA2S+</td>\n",
       "      <td>2022-10-29 22:56:19</td>\n",
       "      <td>9c19jk3coesvcdu9c19px0ltwrzj1cbn</td>\n",
       "      <td>NaN</td>\n",
       "    </tr>\n",
       "    <tr>\n",
       "      <th>2</th>\n",
       "      <td>Full-Time Employee</td>\n",
       "      <td>Travel/Tourism</td>\n",
       "      <td>Vice President of Brand Marketing</td>\n",
       "      <td>California</td>\n",
       "      <td>Fully Remote</td>\n",
       "      <td>5</td>\n",
       "      <td>150000</td>\n",
       "      <td>/Year</td>\n",
       "      <td>4000.0</td>\n",
       "      <td>False</td>\n",
       "      <td>...</td>\n",
       "      <td>Hospitality &amp; Adventure Tourism</td>\n",
       "      <td>San Francisco</td>\n",
       "      <td>Nope</td>\n",
       "      <td>2 months</td>\n",
       "      <td>She/Her</td>\n",
       "      <td>NaN</td>\n",
       "      <td>Woman</td>\n",
       "      <td>2022-10-29 22:23:42</td>\n",
       "      <td>7bnz7dq3fbcyg3xf0vzx97bnz7pn3bij</td>\n",
       "      <td>NaN</td>\n",
       "    </tr>\n",
       "    <tr>\n",
       "      <th>3</th>\n",
       "      <td>Full-Time Employee</td>\n",
       "      <td>Bike</td>\n",
       "      <td>Store Manager</td>\n",
       "      <td>Pennsylvania</td>\n",
       "      <td>In-Office</td>\n",
       "      <td>6</td>\n",
       "      <td>66000</td>\n",
       "      <td>/Year</td>\n",
       "      <td>15000.0</td>\n",
       "      <td>True</td>\n",
       "      <td>...</td>\n",
       "      <td>Retail</td>\n",
       "      <td>Philadelphia</td>\n",
       "      <td>Nope</td>\n",
       "      <td>2 months</td>\n",
       "      <td>He/Him</td>\n",
       "      <td>NaN</td>\n",
       "      <td>NaN</td>\n",
       "      <td>2022-10-29 22:14:55</td>\n",
       "      <td>mzpxp2psypsbtt1hcespgmzpxp2p7arl</td>\n",
       "      <td>NaN</td>\n",
       "    </tr>\n",
       "    <tr>\n",
       "      <th>4</th>\n",
       "      <td>Full-Time Employee</td>\n",
       "      <td>Bike</td>\n",
       "      <td>People Ops</td>\n",
       "      <td>Oregon</td>\n",
       "      <td>Fully Remote</td>\n",
       "      <td>4</td>\n",
       "      <td>80000</td>\n",
       "      <td>/Year</td>\n",
       "      <td>0.0</td>\n",
       "      <td>False</td>\n",
       "      <td>...</td>\n",
       "      <td>Human Resources (seems like it should be an op...</td>\n",
       "      <td>Bend, OR</td>\n",
       "      <td>Nope</td>\n",
       "      <td>1 months</td>\n",
       "      <td>She/Her</td>\n",
       "      <td>NaN</td>\n",
       "      <td>50+, LGBTQIA2S+, Woman</td>\n",
       "      <td>2022-10-29 21:58:27</td>\n",
       "      <td>8xv58qt6gkciedqai2v8xv58qt69tmh2</td>\n",
       "      <td>NaN</td>\n",
       "    </tr>\n",
       "  </tbody>\n",
       "</table>\n",
       "<p>5 rows × 27 columns</p>\n",
       "</div>"
      ],
      "text/plain": [
       "              I am a:          Industry                          Job Title  \\\n",
       "0  Full-Time Employee  Active Lifestyle    North America Marketing Manager   \n",
       "1  Full-Time Employee           Running                        PR Director   \n",
       "2  Full-Time Employee    Travel/Tourism  Vice President of Brand Marketing   \n",
       "3  Full-Time Employee              Bike                      Store Manager   \n",
       "4  Full-Time Employee              Bike                         People Ops   \n",
       "\n",
       "       Location            Flexibility # Years     Pay I charge per:  \\\n",
       "0        Oregon  Hybrid/Work From Home     15+   95000         /Year   \n",
       "1      Colorado           Fully Remote       8  165000         /Year   \n",
       "2    California           Fully Remote       5  150000         /Year   \n",
       "3  Pennsylvania              In-Office       6   66000         /Year   \n",
       "4        Oregon           Fully Remote       4   80000         /Year   \n",
       "\n",
       "   Bonuses/ Commissions Equity  ...  \\\n",
       "0               10000.0  False  ...   \n",
       "1                   NaN   True  ...   \n",
       "2                4000.0  False  ...   \n",
       "3               15000.0   True  ...   \n",
       "4                   0.0  False  ...   \n",
       "\n",
       "                                       Field of work           City  \\\n",
       "0                               Marketing & Branding   Portland, OR   \n",
       "1                                PR & Communications         Denver   \n",
       "2                    Hospitality & Adventure Tourism  San Francisco   \n",
       "3                                             Retail   Philadelphia   \n",
       "4  Human Resources (seems like it should be an op...       Bend, OR   \n",
       "\n",
       "   Government role? Parental leave  Pronouns   Race/Ethnicity  \\\n",
       "0              Nope        6 months  She/Her              NaN   \n",
       "1              Nope        3 months   He/Him  Latino/Hispanic   \n",
       "2              Nope        2 months  She/Her              NaN   \n",
       "3              Nope        2 months   He/Him              NaN   \n",
       "4              Nope        1 months  She/Her              NaN   \n",
       "\n",
       "  I identify as part of the following communities        Submitted At  \\\n",
       "0                               LGBTQIA2S+, Woman 2022-10-29 22:59:19   \n",
       "1                                      LGBTQIA2S+ 2022-10-29 22:56:19   \n",
       "2                                           Woman 2022-10-29 22:23:42   \n",
       "3                                             NaN 2022-10-29 22:14:55   \n",
       "4                          50+, LGBTQIA2S+, Woman 2022-10-29 21:58:27   \n",
       "\n",
       "                              Token Unnamed: 27  \n",
       "0  4uhvwonebzd2xry77gpme4uhvwn6pmnd         NaN  \n",
       "1  9c19jk3coesvcdu9c19px0ltwrzj1cbn         NaN  \n",
       "2  7bnz7dq3fbcyg3xf0vzx97bnz7pn3bij         NaN  \n",
       "3  mzpxp2psypsbtt1hcespgmzpxp2p7arl         NaN  \n",
       "4  8xv58qt6gkciedqai2v8xv58qt69tmh2         NaN  \n",
       "\n",
       "[5 rows x 27 columns]"
      ]
     },
     "execution_count": 57,
     "metadata": {},
     "output_type": "execute_result"
    }
   ],
   "source": [
    "df_raw.head()"
   ]
  },
  {
   "cell_type": "code",
   "execution_count": 58,
   "metadata": {},
   "outputs": [
    {
     "data": {
      "text/plain": [
       "928"
      ]
     },
     "execution_count": 58,
     "metadata": {},
     "output_type": "execute_result"
    }
   ],
   "source": [
    "len(df_raw[\"Pay\"])"
   ]
  },
  {
   "cell_type": "code",
   "execution_count": 59,
   "metadata": {},
   "outputs": [],
   "source": [
    "df = df_raw.copy(deep = True)"
   ]
  },
  {
   "cell_type": "code",
   "execution_count": 60,
   "metadata": {},
   "outputs": [
    {
     "data": {
      "text/plain": [
       "Index(['I am a:', 'Industry', 'Job Title', 'Location', 'Flexibility',\n",
       "       '# Years', 'Pay', 'I charge per:', 'Bonuses/ Commissions', 'Equity',\n",
       "       'PTO', 'Training/Education', 'Add'l Qs', 'Benefits', 'OTJ Experience',\n",
       "       'Starting Pay', 'Specialty expertise', 'Field of work', 'City',\n",
       "       'Government role?', 'Parental leave ', 'Pronouns', 'Race/Ethnicity',\n",
       "       'I identify as part of the following communities', 'Submitted At',\n",
       "       'Token', 'Unnamed: 27'],\n",
       "      dtype='object')"
      ]
     },
     "execution_count": 60,
     "metadata": {},
     "output_type": "execute_result"
    }
   ],
   "source": [
    "df.columns"
   ]
  },
  {
   "cell_type": "code",
   "execution_count": 61,
   "metadata": {},
   "outputs": [],
   "source": [
    "# general syntax of loc\n",
    "# df.loc['row_label', 'column_label']\n",
    "\n",
    "# If there are multiple labels, they should be specified inside lists:\n",
    "# df.loc[['row_1', 'row_2'], ['column_1', 'column_2']]\n"
   ]
  },
  {
   "cell_type": "code",
   "execution_count": 62,
   "metadata": {},
   "outputs": [],
   "source": [
    "# specify which columns to keep\n",
    "columns_wanted = ['I am a:', 'Industry', 'Location', 'Flexibility', '# Years', 'Pay', 'I charge per:', 'Field of work', 'Submitted At', 'Pronouns']"
   ]
  },
  {
   "cell_type": "code",
   "execution_count": 63,
   "metadata": {},
   "outputs": [],
   "source": [
    "# create a subset of the DataFrame with specified columns\n",
    "df_subset = df.loc[:, columns_wanted]"
   ]
  },
  {
   "cell_type": "code",
   "execution_count": 64,
   "metadata": {},
   "outputs": [
    {
     "data": {
      "text/html": [
       "<div>\n",
       "<style scoped>\n",
       "    .dataframe tbody tr th:only-of-type {\n",
       "        vertical-align: middle;\n",
       "    }\n",
       "\n",
       "    .dataframe tbody tr th {\n",
       "        vertical-align: top;\n",
       "    }\n",
       "\n",
       "    .dataframe thead th {\n",
       "        text-align: right;\n",
       "    }\n",
       "</style>\n",
       "<table border=\"1\" class=\"dataframe\">\n",
       "  <thead>\n",
       "    <tr style=\"text-align: right;\">\n",
       "      <th></th>\n",
       "      <th>I am a:</th>\n",
       "      <th>Industry</th>\n",
       "      <th>Location</th>\n",
       "      <th>Flexibility</th>\n",
       "      <th># Years</th>\n",
       "      <th>Pay</th>\n",
       "      <th>I charge per:</th>\n",
       "      <th>Field of work</th>\n",
       "      <th>Submitted At</th>\n",
       "      <th>Pronouns</th>\n",
       "    </tr>\n",
       "  </thead>\n",
       "  <tbody>\n",
       "    <tr>\n",
       "      <th>0</th>\n",
       "      <td>Full-Time Employee</td>\n",
       "      <td>Active Lifestyle</td>\n",
       "      <td>Oregon</td>\n",
       "      <td>Hybrid/Work From Home</td>\n",
       "      <td>15+</td>\n",
       "      <td>95000</td>\n",
       "      <td>/Year</td>\n",
       "      <td>Marketing &amp; Branding</td>\n",
       "      <td>2022-10-29 22:59:19</td>\n",
       "      <td>She/Her</td>\n",
       "    </tr>\n",
       "    <tr>\n",
       "      <th>1</th>\n",
       "      <td>Full-Time Employee</td>\n",
       "      <td>Running</td>\n",
       "      <td>Colorado</td>\n",
       "      <td>Fully Remote</td>\n",
       "      <td>8</td>\n",
       "      <td>165000</td>\n",
       "      <td>/Year</td>\n",
       "      <td>PR &amp; Communications</td>\n",
       "      <td>2022-10-29 22:56:19</td>\n",
       "      <td>He/Him</td>\n",
       "    </tr>\n",
       "    <tr>\n",
       "      <th>2</th>\n",
       "      <td>Full-Time Employee</td>\n",
       "      <td>Travel/Tourism</td>\n",
       "      <td>California</td>\n",
       "      <td>Fully Remote</td>\n",
       "      <td>5</td>\n",
       "      <td>150000</td>\n",
       "      <td>/Year</td>\n",
       "      <td>Hospitality &amp; Adventure Tourism</td>\n",
       "      <td>2022-10-29 22:23:42</td>\n",
       "      <td>She/Her</td>\n",
       "    </tr>\n",
       "    <tr>\n",
       "      <th>3</th>\n",
       "      <td>Full-Time Employee</td>\n",
       "      <td>Bike</td>\n",
       "      <td>Pennsylvania</td>\n",
       "      <td>In-Office</td>\n",
       "      <td>6</td>\n",
       "      <td>66000</td>\n",
       "      <td>/Year</td>\n",
       "      <td>Retail</td>\n",
       "      <td>2022-10-29 22:14:55</td>\n",
       "      <td>He/Him</td>\n",
       "    </tr>\n",
       "    <tr>\n",
       "      <th>4</th>\n",
       "      <td>Full-Time Employee</td>\n",
       "      <td>Bike</td>\n",
       "      <td>Oregon</td>\n",
       "      <td>Fully Remote</td>\n",
       "      <td>4</td>\n",
       "      <td>80000</td>\n",
       "      <td>/Year</td>\n",
       "      <td>Human Resources (seems like it should be an op...</td>\n",
       "      <td>2022-10-29 21:58:27</td>\n",
       "      <td>She/Her</td>\n",
       "    </tr>\n",
       "  </tbody>\n",
       "</table>\n",
       "</div>"
      ],
      "text/plain": [
       "              I am a:          Industry      Location            Flexibility  \\\n",
       "0  Full-Time Employee  Active Lifestyle        Oregon  Hybrid/Work From Home   \n",
       "1  Full-Time Employee           Running      Colorado           Fully Remote   \n",
       "2  Full-Time Employee    Travel/Tourism    California           Fully Remote   \n",
       "3  Full-Time Employee              Bike  Pennsylvania              In-Office   \n",
       "4  Full-Time Employee              Bike        Oregon           Fully Remote   \n",
       "\n",
       "  # Years     Pay I charge per:  \\\n",
       "0     15+   95000         /Year   \n",
       "1       8  165000         /Year   \n",
       "2       5  150000         /Year   \n",
       "3       6   66000         /Year   \n",
       "4       4   80000         /Year   \n",
       "\n",
       "                                       Field of work        Submitted At  \\\n",
       "0                               Marketing & Branding 2022-10-29 22:59:19   \n",
       "1                                PR & Communications 2022-10-29 22:56:19   \n",
       "2                    Hospitality & Adventure Tourism 2022-10-29 22:23:42   \n",
       "3                                             Retail 2022-10-29 22:14:55   \n",
       "4  Human Resources (seems like it should be an op... 2022-10-29 21:58:27   \n",
       "\n",
       "  Pronouns  \n",
       "0  She/Her  \n",
       "1   He/Him  \n",
       "2  She/Her  \n",
       "3   He/Him  \n",
       "4  She/Her  "
      ]
     },
     "execution_count": 64,
     "metadata": {},
     "output_type": "execute_result"
    }
   ],
   "source": [
    "df_subset.head()"
   ]
  },
  {
   "cell_type": "code",
   "execution_count": 65,
   "metadata": {},
   "outputs": [
    {
     "data": {
      "text/plain": [
       "Full-Time Employee          793\n",
       "Contract/Seasonal Worker     88\n",
       "Part-Time Employee           41\n",
       "Intern                        5\n",
       "Board Member                  1\n",
       "Name: I am a:, dtype: int64"
      ]
     },
     "execution_count": 65,
     "metadata": {},
     "output_type": "execute_result"
    }
   ],
   "source": [
    "df_subset[\"I am a:\"].value_counts()"
   ]
  },
  {
   "cell_type": "code",
   "execution_count": 66,
   "metadata": {},
   "outputs": [
    {
     "data": {
      "text/plain": [
       "/Year       687\n",
       "/Hour       202\n",
       "/Month       26\n",
       "/Project     13\n",
       "Name: I charge per:, dtype: int64"
      ]
     },
     "execution_count": 66,
     "metadata": {},
     "output_type": "execute_result"
    }
   ],
   "source": [
    "df_subset[\"I charge per:\"].value_counts()"
   ]
  },
  {
   "cell_type": "code",
   "execution_count": 67,
   "metadata": {},
   "outputs": [
    {
     "data": {
      "text/plain": [
       "I am a:                  object\n",
       "Industry                 object\n",
       "Location                 object\n",
       "Flexibility              object\n",
       "# Years                  object\n",
       "Pay                       int64\n",
       "I charge per:            object\n",
       "Field of work            object\n",
       "Submitted At     datetime64[ns]\n",
       "Pronouns                 object\n",
       "dtype: object"
      ]
     },
     "execution_count": 67,
     "metadata": {},
     "output_type": "execute_result"
    }
   ],
   "source": [
    "# check datatypes\n",
    "df_subset.dtypes"
   ]
  },
  {
   "cell_type": "code",
   "execution_count": 68,
   "metadata": {},
   "outputs": [],
   "source": [
    "# subset only responses with 'I charge per: ' '/Year'\n",
    "df_subset = df_subset.loc[df_subset['I charge per:'] == '/Year']"
   ]
  },
  {
   "cell_type": "code",
   "execution_count": 69,
   "metadata": {},
   "outputs": [],
   "source": [
    "# Extract the Year from the Submitted At column\n",
    "df_subset['Year'] = df_subset['Submitted At'].dt.strftime('%Y')"
   ]
  },
  {
   "cell_type": "code",
   "execution_count": 70,
   "metadata": {},
   "outputs": [],
   "source": [
    "# Rename columns\n",
    "df_subset.rename(columns = {\"# Years\": \"Years of Experience\"}, inplace = True)"
   ]
  },
  {
   "cell_type": "code",
   "execution_count": 71,
   "metadata": {},
   "outputs": [
    {
     "data": {
      "text/plain": [
       "10+                 100\n",
       "2                    90\n",
       "1                    72\n",
       "Less than a year     71\n",
       "3                    65\n",
       "4                    63\n",
       "5                    57\n",
       "15+                  39\n",
       "7                    32\n",
       "6                    29\n",
       "8                    24\n",
       "9                    20\n",
       "20+                  18\n",
       "25+                   6\n",
       "30+                   1\n",
       "Name: Years of Experience, dtype: int64"
      ]
     },
     "execution_count": 71,
     "metadata": {},
     "output_type": "execute_result"
    }
   ],
   "source": [
    "df_subset['Years of Experience'].value_counts()"
   ]
  },
  {
   "cell_type": "code",
   "execution_count": 72,
   "metadata": {},
   "outputs": [],
   "source": [
    "# Create categories for \"Years of Experience\"\n",
    "df_subset['Years of Exp.'] = np.select(\n",
    "    [\n",
    "        df_subset[\"Years of Experience\"] == 'Less than a year',\n",
    "        df_subset[\"Years of Experience\"] == '1',\n",
    "        df_subset[\"Years of Experience\"] == '2',\n",
    "        df_subset[\"Years of Experience\"] == '3',\n",
    "        df_subset[\"Years of Experience\"] == '4',\n",
    "        df_subset[\"Years of Experience\"] == '5',\n",
    "        df_subset[\"Years of Experience\"] == '6',\n",
    "        df_subset[\"Years of Experience\"] == '7',\n",
    "        df_subset[\"Years of Experience\"] == '8',\n",
    "        df_subset[\"Years of Experience\"] == '9',\n",
    "        df_subset[\"Years of Experience\"] == '10+',\n",
    "        df_subset[\"Years of Experience\"] == '15+',\n",
    "        df_subset[\"Years of Experience\"] == '20+',\n",
    "        df_subset[\"Years of Experience\"] == '25+',\n",
    "        df_subset[\"Years of Experience\"] == '23+' \n",
    "    ],\n",
    "    [\n",
    "        '0-3 years',\n",
    "        '0-3 years',\n",
    "        '0-3 years',\n",
    "        '0-3 years',\n",
    "        '4-6 years',\n",
    "        '4-6 years',\n",
    "        '4-6 years',\n",
    "        '7-9 years',\n",
    "        '7-9 years',\n",
    "        '7-9 years',\n",
    "        '10+ years',\n",
    "        '10+ years',\n",
    "        '10+ years',\n",
    "        '10+ years',\n",
    "        '10+ years'\n",
    "    ],\n",
    "    default = 'No Data'\n",
    ")"
   ]
  },
  {
   "cell_type": "code",
   "execution_count": 73,
   "metadata": {},
   "outputs": [
    {
     "data": {
      "text/plain": [
       "She/Her      435\n",
       "He/Him       217\n",
       "They/Them      7\n",
       "she/they       2\n",
       "She/They       1\n",
       "She/they       1\n",
       "Name: Pronouns, dtype: int64"
      ]
     },
     "execution_count": 73,
     "metadata": {},
     "output_type": "execute_result"
    }
   ],
   "source": [
    "df_subset[\"Pronouns\"].value_counts()"
   ]
  },
  {
   "cell_type": "code",
   "execution_count": 74,
   "metadata": {},
   "outputs": [],
   "source": [
    "# Create categories for \"Pronouns\"\n",
    "df_subset['Pronouns'] = np.select(\n",
    "    [\n",
    "        df_subset[\"Pronouns\"] == 'She/Her',\n",
    "        df_subset[\"Pronouns\"] == 'He/Him',\n",
    "        df_subset[\"Pronouns\"] == 'They/Them',\n",
    "        df_subset[\"Pronouns\"] == 'she/they',\n",
    "        df_subset[\"Pronouns\"] == 'She/They',\n",
    "        df_subset[\"Pronouns\"] == 'She/they'\n",
    "    ],\n",
    "    [\n",
    "        'She/Her',\n",
    "        'He/Him',\n",
    "        'They/Them',\n",
    "        'She/They',\n",
    "        'She/They',\n",
    "        'She/They'\n",
    "    ],\n",
    "    default = 'No Response'\n",
    ")"
   ]
  },
  {
   "cell_type": "code",
   "execution_count": 84,
   "metadata": {},
   "outputs": [
    {
     "data": {
      "text/plain": [
       "She/Her        431\n",
       "He/Him         217\n",
       "No Response     24\n",
       "They/Them        7\n",
       "She/They         4\n",
       "Name: Pronouns, dtype: int64"
      ]
     },
     "execution_count": 84,
     "metadata": {},
     "output_type": "execute_result"
    }
   ],
   "source": [
    "df_subset[\"Pronouns\"].value_counts()"
   ]
  },
  {
   "cell_type": "code",
   "execution_count": 75,
   "metadata": {},
   "outputs": [
    {
     "data": {
      "text/html": [
       "<div>\n",
       "<style scoped>\n",
       "    .dataframe tbody tr th:only-of-type {\n",
       "        vertical-align: middle;\n",
       "    }\n",
       "\n",
       "    .dataframe tbody tr th {\n",
       "        vertical-align: top;\n",
       "    }\n",
       "\n",
       "    .dataframe thead th {\n",
       "        text-align: right;\n",
       "    }\n",
       "</style>\n",
       "<table border=\"1\" class=\"dataframe\">\n",
       "  <thead>\n",
       "    <tr style=\"text-align: right;\">\n",
       "      <th></th>\n",
       "      <th>I am a:</th>\n",
       "      <th>Industry</th>\n",
       "      <th>Location</th>\n",
       "      <th>Flexibility</th>\n",
       "      <th>Years of Experience</th>\n",
       "      <th>Pay</th>\n",
       "      <th>I charge per:</th>\n",
       "      <th>Field of work</th>\n",
       "      <th>Submitted At</th>\n",
       "      <th>Pronouns</th>\n",
       "      <th>Year</th>\n",
       "      <th>Years of Exp.</th>\n",
       "    </tr>\n",
       "  </thead>\n",
       "  <tbody>\n",
       "    <tr>\n",
       "      <th>0</th>\n",
       "      <td>Full-Time Employee</td>\n",
       "      <td>Active Lifestyle</td>\n",
       "      <td>Oregon</td>\n",
       "      <td>Hybrid/Work From Home</td>\n",
       "      <td>15+</td>\n",
       "      <td>95000</td>\n",
       "      <td>/Year</td>\n",
       "      <td>Marketing &amp; Branding</td>\n",
       "      <td>2022-10-29 22:59:19</td>\n",
       "      <td>She/Her</td>\n",
       "      <td>2022</td>\n",
       "      <td>10+ years</td>\n",
       "    </tr>\n",
       "    <tr>\n",
       "      <th>1</th>\n",
       "      <td>Full-Time Employee</td>\n",
       "      <td>Running</td>\n",
       "      <td>Colorado</td>\n",
       "      <td>Fully Remote</td>\n",
       "      <td>8</td>\n",
       "      <td>165000</td>\n",
       "      <td>/Year</td>\n",
       "      <td>PR &amp; Communications</td>\n",
       "      <td>2022-10-29 22:56:19</td>\n",
       "      <td>He/Him</td>\n",
       "      <td>2022</td>\n",
       "      <td>7-9 years</td>\n",
       "    </tr>\n",
       "    <tr>\n",
       "      <th>2</th>\n",
       "      <td>Full-Time Employee</td>\n",
       "      <td>Travel/Tourism</td>\n",
       "      <td>California</td>\n",
       "      <td>Fully Remote</td>\n",
       "      <td>5</td>\n",
       "      <td>150000</td>\n",
       "      <td>/Year</td>\n",
       "      <td>Hospitality &amp; Adventure Tourism</td>\n",
       "      <td>2022-10-29 22:23:42</td>\n",
       "      <td>She/Her</td>\n",
       "      <td>2022</td>\n",
       "      <td>4-6 years</td>\n",
       "    </tr>\n",
       "    <tr>\n",
       "      <th>3</th>\n",
       "      <td>Full-Time Employee</td>\n",
       "      <td>Bike</td>\n",
       "      <td>Pennsylvania</td>\n",
       "      <td>In-Office</td>\n",
       "      <td>6</td>\n",
       "      <td>66000</td>\n",
       "      <td>/Year</td>\n",
       "      <td>Retail</td>\n",
       "      <td>2022-10-29 22:14:55</td>\n",
       "      <td>He/Him</td>\n",
       "      <td>2022</td>\n",
       "      <td>4-6 years</td>\n",
       "    </tr>\n",
       "    <tr>\n",
       "      <th>4</th>\n",
       "      <td>Full-Time Employee</td>\n",
       "      <td>Bike</td>\n",
       "      <td>Oregon</td>\n",
       "      <td>Fully Remote</td>\n",
       "      <td>4</td>\n",
       "      <td>80000</td>\n",
       "      <td>/Year</td>\n",
       "      <td>Human Resources (seems like it should be an op...</td>\n",
       "      <td>2022-10-29 21:58:27</td>\n",
       "      <td>She/Her</td>\n",
       "      <td>2022</td>\n",
       "      <td>4-6 years</td>\n",
       "    </tr>\n",
       "    <tr>\n",
       "      <th>5</th>\n",
       "      <td>Full-Time Employee</td>\n",
       "      <td>Climb</td>\n",
       "      <td>New York</td>\n",
       "      <td>In-Office</td>\n",
       "      <td>9</td>\n",
       "      <td>62000</td>\n",
       "      <td>/Year</td>\n",
       "      <td>Administrative/Virtual Assistance</td>\n",
       "      <td>2022-10-29 21:16:49</td>\n",
       "      <td>She/They</td>\n",
       "      <td>2022</td>\n",
       "      <td>7-9 years</td>\n",
       "    </tr>\n",
       "    <tr>\n",
       "      <th>6</th>\n",
       "      <td>Contract/Seasonal Worker</td>\n",
       "      <td>Non-Profit</td>\n",
       "      <td>Kentucky</td>\n",
       "      <td>Hybrid/Work From Home</td>\n",
       "      <td>1</td>\n",
       "      <td>81000</td>\n",
       "      <td>/Year</td>\n",
       "      <td>Partnerships &amp; Community</td>\n",
       "      <td>2022-10-29 20:52:11</td>\n",
       "      <td>He/Him</td>\n",
       "      <td>2022</td>\n",
       "      <td>0-3 years</td>\n",
       "    </tr>\n",
       "    <tr>\n",
       "      <th>7</th>\n",
       "      <td>Full-Time Employee</td>\n",
       "      <td>Bike</td>\n",
       "      <td>Colorado</td>\n",
       "      <td>Hybrid/Work From Home</td>\n",
       "      <td>3</td>\n",
       "      <td>85000</td>\n",
       "      <td>/Year</td>\n",
       "      <td>Marketing &amp; Branding</td>\n",
       "      <td>2022-10-29 20:28:26</td>\n",
       "      <td>She/Her</td>\n",
       "      <td>2022</td>\n",
       "      <td>0-3 years</td>\n",
       "    </tr>\n",
       "    <tr>\n",
       "      <th>8</th>\n",
       "      <td>Full-Time Employee</td>\n",
       "      <td>Ski/Snow</td>\n",
       "      <td>Maine</td>\n",
       "      <td>In-Office</td>\n",
       "      <td>15+</td>\n",
       "      <td>75000</td>\n",
       "      <td>/Year</td>\n",
       "      <td>Marketing &amp; Branding</td>\n",
       "      <td>2022-10-29 20:11:12</td>\n",
       "      <td>He/Him</td>\n",
       "      <td>2022</td>\n",
       "      <td>10+ years</td>\n",
       "    </tr>\n",
       "    <tr>\n",
       "      <th>9</th>\n",
       "      <td>Full-Time Employee</td>\n",
       "      <td>Conservation</td>\n",
       "      <td>Georgia</td>\n",
       "      <td>Hybrid/Work From Home</td>\n",
       "      <td>1</td>\n",
       "      <td>117692</td>\n",
       "      <td>/Year</td>\n",
       "      <td>PR &amp; Communications</td>\n",
       "      <td>2022-10-29 19:30:55</td>\n",
       "      <td>He/Him</td>\n",
       "      <td>2022</td>\n",
       "      <td>0-3 years</td>\n",
       "    </tr>\n",
       "  </tbody>\n",
       "</table>\n",
       "</div>"
      ],
      "text/plain": [
       "                    I am a:          Industry      Location  \\\n",
       "0        Full-Time Employee  Active Lifestyle        Oregon   \n",
       "1        Full-Time Employee           Running      Colorado   \n",
       "2        Full-Time Employee    Travel/Tourism    California   \n",
       "3        Full-Time Employee              Bike  Pennsylvania   \n",
       "4        Full-Time Employee              Bike        Oregon   \n",
       "5        Full-Time Employee             Climb      New York   \n",
       "6  Contract/Seasonal Worker        Non-Profit      Kentucky   \n",
       "7        Full-Time Employee              Bike      Colorado   \n",
       "8        Full-Time Employee          Ski/Snow         Maine   \n",
       "9        Full-Time Employee      Conservation       Georgia   \n",
       "\n",
       "             Flexibility Years of Experience     Pay I charge per:  \\\n",
       "0  Hybrid/Work From Home                 15+   95000         /Year   \n",
       "1           Fully Remote                   8  165000         /Year   \n",
       "2           Fully Remote                   5  150000         /Year   \n",
       "3              In-Office                   6   66000         /Year   \n",
       "4           Fully Remote                   4   80000         /Year   \n",
       "5              In-Office                   9   62000         /Year   \n",
       "6  Hybrid/Work From Home                   1   81000         /Year   \n",
       "7  Hybrid/Work From Home                   3   85000         /Year   \n",
       "8              In-Office                 15+   75000         /Year   \n",
       "9  Hybrid/Work From Home                   1  117692         /Year   \n",
       "\n",
       "                                       Field of work        Submitted At  \\\n",
       "0                               Marketing & Branding 2022-10-29 22:59:19   \n",
       "1                                PR & Communications 2022-10-29 22:56:19   \n",
       "2                    Hospitality & Adventure Tourism 2022-10-29 22:23:42   \n",
       "3                                             Retail 2022-10-29 22:14:55   \n",
       "4  Human Resources (seems like it should be an op... 2022-10-29 21:58:27   \n",
       "5                  Administrative/Virtual Assistance 2022-10-29 21:16:49   \n",
       "6                           Partnerships & Community 2022-10-29 20:52:11   \n",
       "7                               Marketing & Branding 2022-10-29 20:28:26   \n",
       "8                               Marketing & Branding 2022-10-29 20:11:12   \n",
       "9                                PR & Communications 2022-10-29 19:30:55   \n",
       "\n",
       "   Pronouns  Year Years of Exp.  \n",
       "0   She/Her  2022     10+ years  \n",
       "1    He/Him  2022     7-9 years  \n",
       "2   She/Her  2022     4-6 years  \n",
       "3    He/Him  2022     4-6 years  \n",
       "4   She/Her  2022     4-6 years  \n",
       "5  She/They  2022     7-9 years  \n",
       "6    He/Him  2022     0-3 years  \n",
       "7   She/Her  2022     0-3 years  \n",
       "8    He/Him  2022     10+ years  \n",
       "9    He/Him  2022     0-3 years  "
      ]
     },
     "execution_count": 75,
     "metadata": {},
     "output_type": "execute_result"
    }
   ],
   "source": [
    "df_subset.head(10)"
   ]
  },
  {
   "cell_type": "code",
   "execution_count": 82,
   "metadata": {},
   "outputs": [],
   "source": [
    "# remove outliers with pay less than $100 per year OR more than $500,000 per year\n",
    "index_sal_100_500k = df_subset[(df_subset['Pay'] <= 100) | (df_subset['Pay'] >= 500000)].index\n",
    "df_subset.drop(index_sal_100_500k , inplace=True)"
   ]
  },
  {
   "cell_type": "code",
   "execution_count": 91,
   "metadata": {},
   "outputs": [
    {
     "data": {
      "text/html": [
       "<div>\n",
       "<style scoped>\n",
       "    .dataframe tbody tr th:only-of-type {\n",
       "        vertical-align: middle;\n",
       "    }\n",
       "\n",
       "    .dataframe tbody tr th {\n",
       "        vertical-align: top;\n",
       "    }\n",
       "\n",
       "    .dataframe thead th {\n",
       "        text-align: right;\n",
       "    }\n",
       "</style>\n",
       "<table border=\"1\" class=\"dataframe\">\n",
       "  <thead>\n",
       "    <tr style=\"text-align: right;\">\n",
       "      <th></th>\n",
       "      <th>I am a:</th>\n",
       "      <th>Industry</th>\n",
       "      <th>Location</th>\n",
       "      <th>Flexibility</th>\n",
       "      <th>Years of Experience</th>\n",
       "      <th>Pay</th>\n",
       "      <th>I charge per:</th>\n",
       "      <th>Field of work</th>\n",
       "      <th>Submitted At</th>\n",
       "      <th>Pronouns</th>\n",
       "      <th>Year</th>\n",
       "      <th>Years of Exp.</th>\n",
       "    </tr>\n",
       "    <tr>\n",
       "      <th>Index</th>\n",
       "      <th></th>\n",
       "      <th></th>\n",
       "      <th></th>\n",
       "      <th></th>\n",
       "      <th></th>\n",
       "      <th></th>\n",
       "      <th></th>\n",
       "      <th></th>\n",
       "      <th></th>\n",
       "      <th></th>\n",
       "      <th></th>\n",
       "      <th></th>\n",
       "    </tr>\n",
       "  </thead>\n",
       "  <tbody>\n",
       "    <tr>\n",
       "      <th>0</th>\n",
       "      <td>Full-Time Employee</td>\n",
       "      <td>Active Lifestyle</td>\n",
       "      <td>Oregon</td>\n",
       "      <td>Hybrid/Work From Home</td>\n",
       "      <td>15+</td>\n",
       "      <td>95000</td>\n",
       "      <td>/Year</td>\n",
       "      <td>Marketing &amp; Branding</td>\n",
       "      <td>2022-10-29 22:59:19</td>\n",
       "      <td>She/Her</td>\n",
       "      <td>2022</td>\n",
       "      <td>10+ years</td>\n",
       "    </tr>\n",
       "    <tr>\n",
       "      <th>1</th>\n",
       "      <td>Full-Time Employee</td>\n",
       "      <td>Running</td>\n",
       "      <td>Colorado</td>\n",
       "      <td>Fully Remote</td>\n",
       "      <td>8</td>\n",
       "      <td>165000</td>\n",
       "      <td>/Year</td>\n",
       "      <td>PR &amp; Communications</td>\n",
       "      <td>2022-10-29 22:56:19</td>\n",
       "      <td>He/Him</td>\n",
       "      <td>2022</td>\n",
       "      <td>7-9 years</td>\n",
       "    </tr>\n",
       "    <tr>\n",
       "      <th>2</th>\n",
       "      <td>Full-Time Employee</td>\n",
       "      <td>Travel/Tourism</td>\n",
       "      <td>California</td>\n",
       "      <td>Fully Remote</td>\n",
       "      <td>5</td>\n",
       "      <td>150000</td>\n",
       "      <td>/Year</td>\n",
       "      <td>Hospitality &amp; Adventure Tourism</td>\n",
       "      <td>2022-10-29 22:23:42</td>\n",
       "      <td>She/Her</td>\n",
       "      <td>2022</td>\n",
       "      <td>4-6 years</td>\n",
       "    </tr>\n",
       "    <tr>\n",
       "      <th>3</th>\n",
       "      <td>Full-Time Employee</td>\n",
       "      <td>Bike</td>\n",
       "      <td>Pennsylvania</td>\n",
       "      <td>In-Office</td>\n",
       "      <td>6</td>\n",
       "      <td>66000</td>\n",
       "      <td>/Year</td>\n",
       "      <td>Retail</td>\n",
       "      <td>2022-10-29 22:14:55</td>\n",
       "      <td>He/Him</td>\n",
       "      <td>2022</td>\n",
       "      <td>4-6 years</td>\n",
       "    </tr>\n",
       "    <tr>\n",
       "      <th>4</th>\n",
       "      <td>Full-Time Employee</td>\n",
       "      <td>Bike</td>\n",
       "      <td>Oregon</td>\n",
       "      <td>Fully Remote</td>\n",
       "      <td>4</td>\n",
       "      <td>80000</td>\n",
       "      <td>/Year</td>\n",
       "      <td>Human Resources (seems like it should be an op...</td>\n",
       "      <td>2022-10-29 21:58:27</td>\n",
       "      <td>She/Her</td>\n",
       "      <td>2022</td>\n",
       "      <td>4-6 years</td>\n",
       "    </tr>\n",
       "  </tbody>\n",
       "</table>\n",
       "</div>"
      ],
      "text/plain": [
       "                  I am a:          Industry      Location  \\\n",
       "Index                                                       \n",
       "0      Full-Time Employee  Active Lifestyle        Oregon   \n",
       "1      Full-Time Employee           Running      Colorado   \n",
       "2      Full-Time Employee    Travel/Tourism    California   \n",
       "3      Full-Time Employee              Bike  Pennsylvania   \n",
       "4      Full-Time Employee              Bike        Oregon   \n",
       "\n",
       "                 Flexibility Years of Experience     Pay I charge per:  \\\n",
       "Index                                                                    \n",
       "0      Hybrid/Work From Home                 15+   95000         /Year   \n",
       "1               Fully Remote                   8  165000         /Year   \n",
       "2               Fully Remote                   5  150000         /Year   \n",
       "3                  In-Office                   6   66000         /Year   \n",
       "4               Fully Remote                   4   80000         /Year   \n",
       "\n",
       "                                           Field of work        Submitted At  \\\n",
       "Index                                                                          \n",
       "0                                   Marketing & Branding 2022-10-29 22:59:19   \n",
       "1                                    PR & Communications 2022-10-29 22:56:19   \n",
       "2                        Hospitality & Adventure Tourism 2022-10-29 22:23:42   \n",
       "3                                                 Retail 2022-10-29 22:14:55   \n",
       "4      Human Resources (seems like it should be an op... 2022-10-29 21:58:27   \n",
       "\n",
       "      Pronouns  Year Years of Exp.  \n",
       "Index                               \n",
       "0      She/Her  2022     10+ years  \n",
       "1       He/Him  2022     7-9 years  \n",
       "2      She/Her  2022     4-6 years  \n",
       "3       He/Him  2022     4-6 years  \n",
       "4      She/Her  2022     4-6 years  "
      ]
     },
     "execution_count": 91,
     "metadata": {},
     "output_type": "execute_result"
    }
   ],
   "source": [
    "df_subset.head()"
   ]
  },
  {
   "cell_type": "code",
   "execution_count": 90,
   "metadata": {},
   "outputs": [],
   "source": [
    "df_subset.index.name = 'Index'"
   ]
  },
  {
   "cell_type": "code",
   "execution_count": 101,
   "metadata": {},
   "outputs": [],
   "source": [
    "industries = df_subset.Industry.unique()"
   ]
  },
  {
   "cell_type": "code",
   "execution_count": 102,
   "metadata": {},
   "outputs": [
    {
     "name": "stdout",
     "output_type": "stream",
     "text": [
      "Active Lifestyle\n",
      "Running\n",
      "Travel/Tourism\n",
      "Bike\n",
      "Climb\n",
      "Non-Profit\n",
      "Ski/Snow\n",
      "Conservation\n",
      "Outdoor (Multi-Industry Apparel/ Gear/Services)\n",
      "Education\n",
      "Tech\n",
      "Camp Jobs\n",
      "Rafting\n",
      "Camp/Overland/Vanlife\n",
      "Higher Education - Outdoor Programs\n",
      "Hunt/Fish\n",
      "Outdoor Production (docos, commercials, creative work)\n",
      "addiction support\n",
      "Outdoor Education\n",
      "Outdoor Adjacent\n",
      "Outdoor Media\n",
      "Healthcare\n",
      "Parks and Recreation\n",
      "Big Data ,cloud computing, medical software\n",
      "Dealership (surf boats, snowmobile, atv/side by sides)\n",
      "Outdoor Gear Designer\n",
      "RV\n",
      "Media (outdoor/active lifestyle)\n",
      "Surf/Paddle\n",
      "Sales - Golf\n",
      "Adventure Park\n",
      "Higher education trails program\n",
      "CPG/Food/Sports Nutrition\n",
      "Wellness\n",
      "Utility Consultant\n",
      "State Government\n",
      "Government\n",
      "Advertising\n",
      "Wildlife\n",
      "Outdoor Recreation Non-profit\n",
      "Outdoor Education (College)\n",
      "Education/higher ed\n",
      "Search and Rescue\n",
      "Marketing\n",
      "media - sports\n",
      "Clinical Trials\n",
      "Insurance\n",
      "Environmental Health & Safety\n",
      "Public Horticulture\n",
      "Outdoor & Rec-Heavy Town Position\n",
      "Food\n",
      "Local Government Parks & Recreation Design Development\n",
      "Adventure Education\n",
      "Philanthropy\n",
      "Ziplines and Adventure Parks\n",
      "Research Sciences\n",
      "BLM Land Surveyor\n",
      "Renewables\n",
      "Agency\n",
      "Adventure Ed / Camp Marketing\n"
     ]
    }
   ],
   "source": [
    "for i in industries:\n",
    "    print(i)"
   ]
  },
  {
   "cell_type": "code",
   "execution_count": 99,
   "metadata": {},
   "outputs": [
    {
     "data": {
      "text/plain": [
       "60"
      ]
     },
     "execution_count": 99,
     "metadata": {},
     "output_type": "execute_result"
    }
   ],
   "source": [
    "len(df_subset.Industry.unique())"
   ]
  },
  {
   "cell_type": "code",
   "execution_count": 93,
   "metadata": {},
   "outputs": [],
   "source": [
    "df_subset.to_csv(\"salary_data.csv\")"
   ]
  },
  {
   "cell_type": "code",
   "execution_count": 92,
   "metadata": {},
   "outputs": [
    {
     "data": {
      "text/plain": [
       "count       683.000000\n",
       "mean      75841.102489\n",
       "std       35824.805200\n",
       "min        1500.000000\n",
       "25%       53000.000000\n",
       "50%       68000.000000\n",
       "75%       88250.000000\n",
       "max      403950.000000\n",
       "Name: Pay, dtype: float64"
      ]
     },
     "execution_count": 92,
     "metadata": {},
     "output_type": "execute_result"
    }
   ],
   "source": [
    "df_subset.Pay.describe()"
   ]
  },
  {
   "cell_type": "code",
   "execution_count": 79,
   "metadata": {},
   "outputs": [
    {
     "data": {
      "text/plain": [
       "2022    576\n",
       "2023    111\n",
       "Name: Year, dtype: int64"
      ]
     },
     "execution_count": 79,
     "metadata": {},
     "output_type": "execute_result"
    }
   ],
   "source": [
    "df_subset.Year.value_counts()"
   ]
  },
  {
   "cell_type": "code",
   "execution_count": 80,
   "metadata": {},
   "outputs": [],
   "source": [
    "# profile = ProfileReport(df_subset, title = \"Profiling Report\")"
   ]
  },
  {
   "cell_type": "code",
   "execution_count": 81,
   "metadata": {},
   "outputs": [],
   "source": [
    "# profile.to_file(\"data_quality_report.html\")"
   ]
  }
 ],
 "metadata": {
  "kernelspec": {
   "display_name": "minimal_ds",
   "language": "python",
   "name": "python3"
  },
  "language_info": {
   "codemirror_mode": {
    "name": "ipython",
    "version": 3
   },
   "file_extension": ".py",
   "mimetype": "text/x-python",
   "name": "python",
   "nbconvert_exporter": "python",
   "pygments_lexer": "ipython3",
   "version": "3.9.7"
  },
  "orig_nbformat": 4
 },
 "nbformat": 4,
 "nbformat_minor": 2
}
