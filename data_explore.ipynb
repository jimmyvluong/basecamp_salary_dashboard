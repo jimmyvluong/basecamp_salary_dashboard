{
 "cells": [
  {
   "cell_type": "code",
   "execution_count": 1,
   "metadata": {},
   "outputs": [],
   "source": [
    "import pandas as pd\n",
    "import datetime as dt\n",
    "import numpy as np"
   ]
  },
  {
   "cell_type": "code",
   "execution_count": 2,
   "metadata": {},
   "outputs": [
    {
     "name": "stderr",
     "output_type": "stream",
     "text": [
      "c:\\Users\\jimmy\\miniconda3\\envs\\minimal_ds2\\lib\\site-packages\\tqdm\\auto.py:21: TqdmWarning: IProgress not found. Please update jupyter and ipywidgets. See https://ipywidgets.readthedocs.io/en/stable/user_install.html\n",
      "  from .autonotebook import tqdm as notebook_tqdm\n",
      "c:\\Users\\jimmy\\miniconda3\\envs\\minimal_ds2\\lib\\site-packages\\scipy\\__init__.py:146: UserWarning: A NumPy version >=1.16.5 and <1.23.0 is required for this version of SciPy (detected version 1.23.5\n",
      "  warnings.warn(f\"A NumPy version >={np_minversion} and <{np_maxversion}\"\n"
     ]
    }
   ],
   "source": [
    "from ydata_profiling import ProfileReport"
   ]
  },
  {
   "cell_type": "code",
   "execution_count": 3,
   "metadata": {},
   "outputs": [],
   "source": [
    "from config import sheet_id, sheet_name"
   ]
  },
  {
   "cell_type": "code",
   "execution_count": 4,
   "metadata": {},
   "outputs": [
    {
     "data": {
      "text/plain": [
       "'c:\\\\Users\\\\jimmy\\\\Documents\\\\Data Science Folder\\\\basecamp_salary_dashboard'"
      ]
     },
     "execution_count": 4,
     "metadata": {},
     "output_type": "execute_result"
    }
   ],
   "source": [
    "import os\n",
    "os.getcwd()"
   ]
  },
  {
   "cell_type": "code",
   "execution_count": 5,
   "metadata": {},
   "outputs": [],
   "source": [
    "# import sheet_id and sheet_name from a local config file\n",
    "sheet_id = sheet_id\n",
    "sheet_name = sheet_name\n",
    "url = f\"https://docs.google.com/spreadsheets/d/{sheet_id}/gviz/tq?tqx=out:csv&sheet={sheet_name}\"\n",
    "# replace whitespace in the URL\n",
    "url = url.replace(\" \", \"%20\")"
   ]
  },
  {
   "cell_type": "code",
   "execution_count": 6,
   "metadata": {},
   "outputs": [],
   "source": [
    "# specify columns to read in (all but the \"Company Name\" column)\n",
    "# parse_dates argument tells us which column is a datetime field\n",
    "df_raw = pd.read_csv(url, usecols = lambda x: x != \"Company Name\", parse_dates = ['Submitted At'])"
   ]
  },
  {
   "cell_type": "code",
   "execution_count": 7,
   "metadata": {},
   "outputs": [
    {
     "data": {
      "text/html": [
       "<div>\n",
       "<style scoped>\n",
       "    .dataframe tbody tr th:only-of-type {\n",
       "        vertical-align: middle;\n",
       "    }\n",
       "\n",
       "    .dataframe tbody tr th {\n",
       "        vertical-align: top;\n",
       "    }\n",
       "\n",
       "    .dataframe thead th {\n",
       "        text-align: right;\n",
       "    }\n",
       "</style>\n",
       "<table border=\"1\" class=\"dataframe\">\n",
       "  <thead>\n",
       "    <tr style=\"text-align: right;\">\n",
       "      <th></th>\n",
       "      <th>I am a:</th>\n",
       "      <th>Industry</th>\n",
       "      <th>Job Title</th>\n",
       "      <th>Location</th>\n",
       "      <th>Flexibility</th>\n",
       "      <th># Years</th>\n",
       "      <th>Pay</th>\n",
       "      <th>I charge per:</th>\n",
       "      <th>Bonuses/ Commissions</th>\n",
       "      <th>Equity</th>\n",
       "      <th>...</th>\n",
       "      <th>Field of work</th>\n",
       "      <th>City</th>\n",
       "      <th>Government role?</th>\n",
       "      <th>Parental leave</th>\n",
       "      <th>Pronouns</th>\n",
       "      <th>Race/Ethnicity</th>\n",
       "      <th>I identify as part of the following communities</th>\n",
       "      <th>Submitted At</th>\n",
       "      <th>Token</th>\n",
       "      <th>Unnamed: 27</th>\n",
       "    </tr>\n",
       "  </thead>\n",
       "  <tbody>\n",
       "    <tr>\n",
       "      <th>0</th>\n",
       "      <td>Full-Time Employee</td>\n",
       "      <td>Active Lifestyle</td>\n",
       "      <td>Vice President</td>\n",
       "      <td>California</td>\n",
       "      <td>Fully Remote</td>\n",
       "      <td>25+</td>\n",
       "      <td>0</td>\n",
       "      <td>/Year</td>\n",
       "      <td>2000.0</td>\n",
       "      <td>False</td>\n",
       "      <td>...</td>\n",
       "      <td>Marketing &amp; Branding</td>\n",
       "      <td>NaN</td>\n",
       "      <td>Nope</td>\n",
       "      <td>3 months</td>\n",
       "      <td>She/Her</td>\n",
       "      <td>White/Caucasian</td>\n",
       "      <td>Mom</td>\n",
       "      <td>2022-10-31 15:14:23</td>\n",
       "      <td>n9h9wsaeudjerl5v9cn9h9wlg4wo67z7</td>\n",
       "      <td>NaN</td>\n",
       "    </tr>\n",
       "    <tr>\n",
       "      <th>1</th>\n",
       "      <td>Full-Time Employee</td>\n",
       "      <td>Bike</td>\n",
       "      <td>Operations Manager</td>\n",
       "      <td>Colorado</td>\n",
       "      <td>In-Office</td>\n",
       "      <td>1</td>\n",
       "      <td>20</td>\n",
       "      <td>/Year</td>\n",
       "      <td>3000.0</td>\n",
       "      <td>False</td>\n",
       "      <td>...</td>\n",
       "      <td>Marketing &amp; Branding</td>\n",
       "      <td>Denver</td>\n",
       "      <td>Local</td>\n",
       "      <td>None</td>\n",
       "      <td>She/Her</td>\n",
       "      <td>White/Caucasian</td>\n",
       "      <td>Woman</td>\n",
       "      <td>2023-01-19 21:19:56</td>\n",
       "      <td>i50qp8bzcbk5lns69li50qpl0z4xix5z</td>\n",
       "      <td>NaN</td>\n",
       "    </tr>\n",
       "    <tr>\n",
       "      <th>2</th>\n",
       "      <td>Full-Time Employee</td>\n",
       "      <td>Camp Jobs</td>\n",
       "      <td>Instructor</td>\n",
       "      <td>Colorado</td>\n",
       "      <td>In-Office</td>\n",
       "      <td>15+</td>\n",
       "      <td>1500</td>\n",
       "      <td>/Year</td>\n",
       "      <td>0.0</td>\n",
       "      <td>False</td>\n",
       "      <td>...</td>\n",
       "      <td>Administrative/Virtual Assistance</td>\n",
       "      <td>Denver</td>\n",
       "      <td>State</td>\n",
       "      <td>None</td>\n",
       "      <td>They/Them</td>\n",
       "      <td>White/Caucasian</td>\n",
       "      <td>Woman</td>\n",
       "      <td>2022-11-01 16:34:22</td>\n",
       "      <td>pgfw9l4162v9hfuf6ihhudpgfw9ljz9p</td>\n",
       "      <td>NaN</td>\n",
       "    </tr>\n",
       "    <tr>\n",
       "      <th>3</th>\n",
       "      <td>Contract/Seasonal Worker</td>\n",
       "      <td>Non-Profit</td>\n",
       "      <td>Field instructor</td>\n",
       "      <td>Oregon</td>\n",
       "      <td>In-Office</td>\n",
       "      <td>3</td>\n",
       "      <td>15000</td>\n",
       "      <td>/Year</td>\n",
       "      <td>0.0</td>\n",
       "      <td>False</td>\n",
       "      <td>...</td>\n",
       "      <td>Guiding or Instructing</td>\n",
       "      <td>NaN</td>\n",
       "      <td>Nope</td>\n",
       "      <td>No idea</td>\n",
       "      <td>He/Him</td>\n",
       "      <td>Black, White/Caucasian</td>\n",
       "      <td>NaN</td>\n",
       "      <td>2022-10-31 20:36:11</td>\n",
       "      <td>fei6mrumub2az0h91nfei6mruh93op2n</td>\n",
       "      <td>NaN</td>\n",
       "    </tr>\n",
       "    <tr>\n",
       "      <th>4</th>\n",
       "      <td>Intern</td>\n",
       "      <td>Education</td>\n",
       "      <td>Teaching Fellow</td>\n",
       "      <td>Idaho</td>\n",
       "      <td>In-Office</td>\n",
       "      <td>1</td>\n",
       "      <td>15000</td>\n",
       "      <td>/Year</td>\n",
       "      <td>NaN</td>\n",
       "      <td>False</td>\n",
       "      <td>...</td>\n",
       "      <td>Education</td>\n",
       "      <td>Sun Valley</td>\n",
       "      <td>Nope</td>\n",
       "      <td>No idea</td>\n",
       "      <td>He/Him</td>\n",
       "      <td>White/Caucasian</td>\n",
       "      <td>NaN</td>\n",
       "      <td>2023-03-09 22:29:01</td>\n",
       "      <td>b3opzb9dq7c3tzdb3opzbu62jbsry1ku</td>\n",
       "      <td>NaN</td>\n",
       "    </tr>\n",
       "  </tbody>\n",
       "</table>\n",
       "<p>5 rows × 27 columns</p>\n",
       "</div>"
      ],
      "text/plain": [
       "                    I am a:          Industry           Job Title    Location  \\\n",
       "0        Full-Time Employee  Active Lifestyle      Vice President  California   \n",
       "1        Full-Time Employee              Bike  Operations Manager    Colorado   \n",
       "2        Full-Time Employee         Camp Jobs          Instructor    Colorado   \n",
       "3  Contract/Seasonal Worker        Non-Profit    Field instructor      Oregon   \n",
       "4                    Intern         Education     Teaching Fellow       Idaho   \n",
       "\n",
       "    Flexibility # Years    Pay I charge per:  Bonuses/ Commissions Equity  \\\n",
       "0  Fully Remote     25+      0         /Year                2000.0  False   \n",
       "1     In-Office       1     20         /Year                3000.0  False   \n",
       "2     In-Office     15+   1500         /Year                   0.0  False   \n",
       "3     In-Office       3  15000         /Year                   0.0  False   \n",
       "4     In-Office       1  15000         /Year                   NaN  False   \n",
       "\n",
       "   ...                      Field of work        City  Government role?  \\\n",
       "0  ...               Marketing & Branding         NaN              Nope   \n",
       "1  ...               Marketing & Branding      Denver             Local   \n",
       "2  ...  Administrative/Virtual Assistance      Denver             State   \n",
       "3  ...             Guiding or Instructing         NaN              Nope   \n",
       "4  ...                          Education  Sun Valley              Nope   \n",
       "\n",
       "  Parental leave    Pronouns          Race/Ethnicity  \\\n",
       "0        3 months    She/Her         White/Caucasian   \n",
       "1            None    She/Her         White/Caucasian   \n",
       "2            None  They/Them         White/Caucasian   \n",
       "3         No idea     He/Him  Black, White/Caucasian   \n",
       "4         No idea     He/Him         White/Caucasian   \n",
       "\n",
       "  I identify as part of the following communities        Submitted At  \\\n",
       "0                                             Mom 2022-10-31 15:14:23   \n",
       "1                                           Woman 2023-01-19 21:19:56   \n",
       "2                                           Woman 2022-11-01 16:34:22   \n",
       "3                                             NaN 2022-10-31 20:36:11   \n",
       "4                                             NaN 2023-03-09 22:29:01   \n",
       "\n",
       "                              Token Unnamed: 27  \n",
       "0  n9h9wsaeudjerl5v9cn9h9wlg4wo67z7         NaN  \n",
       "1  i50qp8bzcbk5lns69li50qpl0z4xix5z         NaN  \n",
       "2  pgfw9l4162v9hfuf6ihhudpgfw9ljz9p         NaN  \n",
       "3  fei6mrumub2az0h91nfei6mruh93op2n         NaN  \n",
       "4  b3opzb9dq7c3tzdb3opzbu62jbsry1ku         NaN  \n",
       "\n",
       "[5 rows x 27 columns]"
      ]
     },
     "execution_count": 7,
     "metadata": {},
     "output_type": "execute_result"
    }
   ],
   "source": [
    "df_raw.head()"
   ]
  },
  {
   "cell_type": "code",
   "execution_count": 8,
   "metadata": {},
   "outputs": [],
   "source": [
    "df = df_raw.copy(deep = True)"
   ]
  },
  {
   "cell_type": "code",
   "execution_count": 9,
   "metadata": {},
   "outputs": [
    {
     "data": {
      "text/plain": [
       "Index(['I am a:', 'Industry', 'Job Title', 'Location', 'Flexibility',\n",
       "       '# Years', 'Pay', 'I charge per:', 'Bonuses/ Commissions', 'Equity',\n",
       "       'PTO', 'Training/Education', 'Add'l Qs', 'Benefits', 'OTJ Experience',\n",
       "       'Starting Pay', 'Specialty expertise', 'Field of work', 'City',\n",
       "       'Government role?', 'Parental leave ', 'Pronouns', 'Race/Ethnicity',\n",
       "       'I identify as part of the following communities', 'Submitted At',\n",
       "       'Token', 'Unnamed: 27'],\n",
       "      dtype='object')"
      ]
     },
     "execution_count": 9,
     "metadata": {},
     "output_type": "execute_result"
    }
   ],
   "source": [
    "df.columns"
   ]
  },
  {
   "cell_type": "code",
   "execution_count": 10,
   "metadata": {},
   "outputs": [],
   "source": [
    "# general syntax of loc\n",
    "# df.loc['row_label', 'column_label']\n",
    "\n",
    "# If there are multiple labels, they should be specified inside lists:\n",
    "# df.loc[['row_1', 'row_2'], ['column_1', 'column_2']]\n"
   ]
  },
  {
   "cell_type": "code",
   "execution_count": 11,
   "metadata": {},
   "outputs": [],
   "source": [
    "# specify which columns to keep\n",
    "columns_wanted = ['I am a:', 'Industry', 'Location', 'Flexibility', '# Years', 'Pay', 'I charge per:', 'Field of work', 'Submitted At', 'Pronouns']"
   ]
  },
  {
   "cell_type": "code",
   "execution_count": 12,
   "metadata": {},
   "outputs": [],
   "source": [
    "# create a subset of the DataFrame with specified columns\n",
    "df_subset = df.loc[:, columns_wanted]"
   ]
  },
  {
   "cell_type": "code",
   "execution_count": 13,
   "metadata": {},
   "outputs": [
    {
     "data": {
      "text/html": [
       "<div>\n",
       "<style scoped>\n",
       "    .dataframe tbody tr th:only-of-type {\n",
       "        vertical-align: middle;\n",
       "    }\n",
       "\n",
       "    .dataframe tbody tr th {\n",
       "        vertical-align: top;\n",
       "    }\n",
       "\n",
       "    .dataframe thead th {\n",
       "        text-align: right;\n",
       "    }\n",
       "</style>\n",
       "<table border=\"1\" class=\"dataframe\">\n",
       "  <thead>\n",
       "    <tr style=\"text-align: right;\">\n",
       "      <th></th>\n",
       "      <th>I am a:</th>\n",
       "      <th>Industry</th>\n",
       "      <th>Location</th>\n",
       "      <th>Flexibility</th>\n",
       "      <th># Years</th>\n",
       "      <th>Pay</th>\n",
       "      <th>I charge per:</th>\n",
       "      <th>Field of work</th>\n",
       "      <th>Submitted At</th>\n",
       "      <th>Pronouns</th>\n",
       "    </tr>\n",
       "  </thead>\n",
       "  <tbody>\n",
       "    <tr>\n",
       "      <th>0</th>\n",
       "      <td>Full-Time Employee</td>\n",
       "      <td>Active Lifestyle</td>\n",
       "      <td>California</td>\n",
       "      <td>Fully Remote</td>\n",
       "      <td>25+</td>\n",
       "      <td>0</td>\n",
       "      <td>/Year</td>\n",
       "      <td>Marketing &amp; Branding</td>\n",
       "      <td>2022-10-31 15:14:23</td>\n",
       "      <td>She/Her</td>\n",
       "    </tr>\n",
       "    <tr>\n",
       "      <th>1</th>\n",
       "      <td>Full-Time Employee</td>\n",
       "      <td>Bike</td>\n",
       "      <td>Colorado</td>\n",
       "      <td>In-Office</td>\n",
       "      <td>1</td>\n",
       "      <td>20</td>\n",
       "      <td>/Year</td>\n",
       "      <td>Marketing &amp; Branding</td>\n",
       "      <td>2023-01-19 21:19:56</td>\n",
       "      <td>She/Her</td>\n",
       "    </tr>\n",
       "    <tr>\n",
       "      <th>2</th>\n",
       "      <td>Full-Time Employee</td>\n",
       "      <td>Camp Jobs</td>\n",
       "      <td>Colorado</td>\n",
       "      <td>In-Office</td>\n",
       "      <td>15+</td>\n",
       "      <td>1500</td>\n",
       "      <td>/Year</td>\n",
       "      <td>Administrative/Virtual Assistance</td>\n",
       "      <td>2022-11-01 16:34:22</td>\n",
       "      <td>They/Them</td>\n",
       "    </tr>\n",
       "    <tr>\n",
       "      <th>3</th>\n",
       "      <td>Contract/Seasonal Worker</td>\n",
       "      <td>Non-Profit</td>\n",
       "      <td>Oregon</td>\n",
       "      <td>In-Office</td>\n",
       "      <td>3</td>\n",
       "      <td>15000</td>\n",
       "      <td>/Year</td>\n",
       "      <td>Guiding or Instructing</td>\n",
       "      <td>2022-10-31 20:36:11</td>\n",
       "      <td>He/Him</td>\n",
       "    </tr>\n",
       "    <tr>\n",
       "      <th>4</th>\n",
       "      <td>Intern</td>\n",
       "      <td>Education</td>\n",
       "      <td>Idaho</td>\n",
       "      <td>In-Office</td>\n",
       "      <td>1</td>\n",
       "      <td>15000</td>\n",
       "      <td>/Year</td>\n",
       "      <td>Education</td>\n",
       "      <td>2023-03-09 22:29:01</td>\n",
       "      <td>He/Him</td>\n",
       "    </tr>\n",
       "  </tbody>\n",
       "</table>\n",
       "</div>"
      ],
      "text/plain": [
       "                    I am a:          Industry    Location   Flexibility  \\\n",
       "0        Full-Time Employee  Active Lifestyle  California  Fully Remote   \n",
       "1        Full-Time Employee              Bike    Colorado     In-Office   \n",
       "2        Full-Time Employee         Camp Jobs    Colorado     In-Office   \n",
       "3  Contract/Seasonal Worker        Non-Profit      Oregon     In-Office   \n",
       "4                    Intern         Education       Idaho     In-Office   \n",
       "\n",
       "  # Years    Pay I charge per:                      Field of work  \\\n",
       "0     25+      0         /Year               Marketing & Branding   \n",
       "1       1     20         /Year               Marketing & Branding   \n",
       "2     15+   1500         /Year  Administrative/Virtual Assistance   \n",
       "3       3  15000         /Year             Guiding or Instructing   \n",
       "4       1  15000         /Year                          Education   \n",
       "\n",
       "         Submitted At   Pronouns  \n",
       "0 2022-10-31 15:14:23    She/Her  \n",
       "1 2023-01-19 21:19:56    She/Her  \n",
       "2 2022-11-01 16:34:22  They/Them  \n",
       "3 2022-10-31 20:36:11     He/Him  \n",
       "4 2023-03-09 22:29:01     He/Him  "
      ]
     },
     "execution_count": 13,
     "metadata": {},
     "output_type": "execute_result"
    }
   ],
   "source": [
    "df_subset.head()"
   ]
  },
  {
   "cell_type": "code",
   "execution_count": 14,
   "metadata": {},
   "outputs": [
    {
     "data": {
      "text/plain": [
       "Full-Time Employee          670\n",
       "Contract/Seasonal Worker     11\n",
       "Part-Time Employee            4\n",
       "Intern                        1\n",
       "Name: I am a:, dtype: int64"
      ]
     },
     "execution_count": 14,
     "metadata": {},
     "output_type": "execute_result"
    }
   ],
   "source": [
    "df_subset[\"I am a:\"].value_counts()"
   ]
  },
  {
   "cell_type": "code",
   "execution_count": 15,
   "metadata": {},
   "outputs": [
    {
     "data": {
      "text/plain": [
       "/Year    686\n",
       "Name: I charge per:, dtype: int64"
      ]
     },
     "execution_count": 15,
     "metadata": {},
     "output_type": "execute_result"
    }
   ],
   "source": [
    "df_subset[\"I charge per:\"].value_counts()"
   ]
  },
  {
   "cell_type": "code",
   "execution_count": 16,
   "metadata": {},
   "outputs": [
    {
     "data": {
      "text/plain": [
       "I am a:                  object\n",
       "Industry                 object\n",
       "Location                 object\n",
       "Flexibility              object\n",
       "# Years                  object\n",
       "Pay                       int64\n",
       "I charge per:            object\n",
       "Field of work            object\n",
       "Submitted At     datetime64[ns]\n",
       "Pronouns                 object\n",
       "dtype: object"
      ]
     },
     "execution_count": 16,
     "metadata": {},
     "output_type": "execute_result"
    }
   ],
   "source": [
    "# check datatypes\n",
    "df_subset.dtypes"
   ]
  },
  {
   "cell_type": "code",
   "execution_count": 17,
   "metadata": {},
   "outputs": [],
   "source": [
    "# subset only responses with 'I charge per: ' '/Year'\n",
    "df_subset = df_subset.loc[df_subset['I charge per:'] == '/Year']"
   ]
  },
  {
   "cell_type": "code",
   "execution_count": 18,
   "metadata": {},
   "outputs": [],
   "source": [
    "# Extract the Year from the Submitted At column\n",
    "df_subset['Year'] = df_subset['Submitted At'].dt.strftime('%Y')"
   ]
  },
  {
   "cell_type": "code",
   "execution_count": 19,
   "metadata": {},
   "outputs": [],
   "source": [
    "# Rename columns\n",
    "df_subset.rename(columns = {\"# Years\": \"Years of Experience\"}, inplace = True)"
   ]
  },
  {
   "cell_type": "code",
   "execution_count": 20,
   "metadata": {},
   "outputs": [
    {
     "data": {
      "text/plain": [
       "10+                 100\n",
       "2                    90\n",
       "1                    72\n",
       "Less than a year     71\n",
       "3                    65\n",
       "4                    63\n",
       "5                    57\n",
       "15+                  39\n",
       "7                    32\n",
       "6                    29\n",
       "8                    24\n",
       "9                    19\n",
       "20+                  18\n",
       "25+                   6\n",
       "30+                   1\n",
       "Name: Years of Experience, dtype: int64"
      ]
     },
     "execution_count": 20,
     "metadata": {},
     "output_type": "execute_result"
    }
   ],
   "source": [
    "df_subset['Years of Experience'].value_counts()"
   ]
  },
  {
   "cell_type": "code",
   "execution_count": 21,
   "metadata": {},
   "outputs": [],
   "source": [
    "# Create categories for \"Years of Experience\"\n",
    "df_subset['Years of Exp.'] = np.select(\n",
    "    [\n",
    "        df_subset[\"Years of Experience\"] == 'Less than a year',\n",
    "        df_subset[\"Years of Experience\"] == '1',\n",
    "        df_subset[\"Years of Experience\"] == '2',\n",
    "        df_subset[\"Years of Experience\"] == '3',\n",
    "        df_subset[\"Years of Experience\"] == '4',\n",
    "        df_subset[\"Years of Experience\"] == '5',\n",
    "        df_subset[\"Years of Experience\"] == '6',\n",
    "        df_subset[\"Years of Experience\"] == '7',\n",
    "        df_subset[\"Years of Experience\"] == '8',\n",
    "        df_subset[\"Years of Experience\"] == '9',\n",
    "        df_subset[\"Years of Experience\"] == '10+',\n",
    "        df_subset[\"Years of Experience\"] == '15+',\n",
    "        df_subset[\"Years of Experience\"] == '20+',\n",
    "        df_subset[\"Years of Experience\"] == '25+',\n",
    "        df_subset[\"Years of Experience\"] == '23+' \n",
    "    ],\n",
    "    [\n",
    "        '0-3 years',\n",
    "        '0-3 years',\n",
    "        '0-3 years',\n",
    "        '0-3 years',\n",
    "        '4-6 years',\n",
    "        '4-6 years',\n",
    "        '4-6 years',\n",
    "        '7-9 years',\n",
    "        '7-9 years',\n",
    "        '7-9 years',\n",
    "        '10+ years',\n",
    "        '10+ years',\n",
    "        '10+ years',\n",
    "        '10+ years',\n",
    "        '10+ years'\n",
    "    ],\n",
    "    default = 'No Data'\n",
    ")"
   ]
  },
  {
   "cell_type": "code",
   "execution_count": 22,
   "metadata": {},
   "outputs": [
    {
     "data": {
      "text/plain": [
       "She/Her      434\n",
       "He/Him       217\n",
       "They/Them      7\n",
       "she/they       2\n",
       "She/they       1\n",
       "She/They       1\n",
       "Name: Pronouns, dtype: int64"
      ]
     },
     "execution_count": 22,
     "metadata": {},
     "output_type": "execute_result"
    }
   ],
   "source": [
    "df_subset[\"Pronouns\"].value_counts()"
   ]
  },
  {
   "cell_type": "code",
   "execution_count": 23,
   "metadata": {},
   "outputs": [],
   "source": [
    "# Create categories for \"Pronouns\"\n",
    "df_subset['Pronouns'] = np.select(\n",
    "    [\n",
    "        df_subset[\"Pronouns\"] == 'She/Her',\n",
    "        df_subset[\"Pronouns\"] == 'He/Him',\n",
    "        df_subset[\"Pronouns\"] == 'They/Them',\n",
    "        df_subset[\"Pronouns\"] == 'she/they',\n",
    "        df_subset[\"Pronouns\"] == 'She/They',\n",
    "        df_subset[\"Pronouns\"] == 'She/they'\n",
    "    ],\n",
    "    [\n",
    "        'She/Her',\n",
    "        'He/Him',\n",
    "        'They/Them',\n",
    "        'She/They',\n",
    "        'She/They',\n",
    "        'She/They'\n",
    "    ],\n",
    "    default = 'No Response'\n",
    ")"
   ]
  },
  {
   "cell_type": "code",
   "execution_count": 24,
   "metadata": {},
   "outputs": [
    {
     "data": {
      "text/html": [
       "<div>\n",
       "<style scoped>\n",
       "    .dataframe tbody tr th:only-of-type {\n",
       "        vertical-align: middle;\n",
       "    }\n",
       "\n",
       "    .dataframe tbody tr th {\n",
       "        vertical-align: top;\n",
       "    }\n",
       "\n",
       "    .dataframe thead th {\n",
       "        text-align: right;\n",
       "    }\n",
       "</style>\n",
       "<table border=\"1\" class=\"dataframe\">\n",
       "  <thead>\n",
       "    <tr style=\"text-align: right;\">\n",
       "      <th></th>\n",
       "      <th>I am a:</th>\n",
       "      <th>Industry</th>\n",
       "      <th>Location</th>\n",
       "      <th>Flexibility</th>\n",
       "      <th>Years of Experience</th>\n",
       "      <th>Pay</th>\n",
       "      <th>I charge per:</th>\n",
       "      <th>Field of work</th>\n",
       "      <th>Submitted At</th>\n",
       "      <th>Pronouns</th>\n",
       "      <th>Year</th>\n",
       "      <th>Years of Exp.</th>\n",
       "    </tr>\n",
       "  </thead>\n",
       "  <tbody>\n",
       "    <tr>\n",
       "      <th>0</th>\n",
       "      <td>Full-Time Employee</td>\n",
       "      <td>Active Lifestyle</td>\n",
       "      <td>California</td>\n",
       "      <td>Fully Remote</td>\n",
       "      <td>25+</td>\n",
       "      <td>0</td>\n",
       "      <td>/Year</td>\n",
       "      <td>Marketing &amp; Branding</td>\n",
       "      <td>2022-10-31 15:14:23</td>\n",
       "      <td>She/Her</td>\n",
       "      <td>2022</td>\n",
       "      <td>10+ years</td>\n",
       "    </tr>\n",
       "    <tr>\n",
       "      <th>1</th>\n",
       "      <td>Full-Time Employee</td>\n",
       "      <td>Bike</td>\n",
       "      <td>Colorado</td>\n",
       "      <td>In-Office</td>\n",
       "      <td>1</td>\n",
       "      <td>20</td>\n",
       "      <td>/Year</td>\n",
       "      <td>Marketing &amp; Branding</td>\n",
       "      <td>2023-01-19 21:19:56</td>\n",
       "      <td>She/Her</td>\n",
       "      <td>2023</td>\n",
       "      <td>0-3 years</td>\n",
       "    </tr>\n",
       "    <tr>\n",
       "      <th>2</th>\n",
       "      <td>Full-Time Employee</td>\n",
       "      <td>Camp Jobs</td>\n",
       "      <td>Colorado</td>\n",
       "      <td>In-Office</td>\n",
       "      <td>15+</td>\n",
       "      <td>1500</td>\n",
       "      <td>/Year</td>\n",
       "      <td>Administrative/Virtual Assistance</td>\n",
       "      <td>2022-11-01 16:34:22</td>\n",
       "      <td>They/Them</td>\n",
       "      <td>2022</td>\n",
       "      <td>10+ years</td>\n",
       "    </tr>\n",
       "    <tr>\n",
       "      <th>3</th>\n",
       "      <td>Contract/Seasonal Worker</td>\n",
       "      <td>Non-Profit</td>\n",
       "      <td>Oregon</td>\n",
       "      <td>In-Office</td>\n",
       "      <td>3</td>\n",
       "      <td>15000</td>\n",
       "      <td>/Year</td>\n",
       "      <td>Guiding or Instructing</td>\n",
       "      <td>2022-10-31 20:36:11</td>\n",
       "      <td>He/Him</td>\n",
       "      <td>2022</td>\n",
       "      <td>0-3 years</td>\n",
       "    </tr>\n",
       "    <tr>\n",
       "      <th>4</th>\n",
       "      <td>Intern</td>\n",
       "      <td>Education</td>\n",
       "      <td>Idaho</td>\n",
       "      <td>In-Office</td>\n",
       "      <td>1</td>\n",
       "      <td>15000</td>\n",
       "      <td>/Year</td>\n",
       "      <td>Education</td>\n",
       "      <td>2023-03-09 22:29:01</td>\n",
       "      <td>He/Him</td>\n",
       "      <td>2023</td>\n",
       "      <td>0-3 years</td>\n",
       "    </tr>\n",
       "    <tr>\n",
       "      <th>5</th>\n",
       "      <td>Contract/Seasonal Worker</td>\n",
       "      <td>Non-Profit</td>\n",
       "      <td>Washington State</td>\n",
       "      <td>Hybrid/Work From Home</td>\n",
       "      <td>4</td>\n",
       "      <td>20000</td>\n",
       "      <td>/Year</td>\n",
       "      <td>Guiding or Instructing</td>\n",
       "      <td>2022-11-08 03:55:00</td>\n",
       "      <td>She/Her</td>\n",
       "      <td>2022</td>\n",
       "      <td>4-6 years</td>\n",
       "    </tr>\n",
       "    <tr>\n",
       "      <th>6</th>\n",
       "      <td>Full-Time Employee</td>\n",
       "      <td>Bike</td>\n",
       "      <td>Spain</td>\n",
       "      <td>In-Office</td>\n",
       "      <td>2</td>\n",
       "      <td>21000</td>\n",
       "      <td>/Year</td>\n",
       "      <td>Marketing &amp; Branding</td>\n",
       "      <td>2022-10-31 16:25:02</td>\n",
       "      <td>He/Him</td>\n",
       "      <td>2022</td>\n",
       "      <td>0-3 years</td>\n",
       "    </tr>\n",
       "    <tr>\n",
       "      <th>7</th>\n",
       "      <td>Full-Time Employee</td>\n",
       "      <td>Outdoor (Multi-Industry Apparel/ Gear/Services)</td>\n",
       "      <td>United Kingdom</td>\n",
       "      <td>Hybrid/Work From Home</td>\n",
       "      <td>Less than a year</td>\n",
       "      <td>24000</td>\n",
       "      <td>/Year</td>\n",
       "      <td>Marketing &amp; Branding</td>\n",
       "      <td>2022-10-31 21:17:35</td>\n",
       "      <td>She/Her</td>\n",
       "      <td>2022</td>\n",
       "      <td>0-3 years</td>\n",
       "    </tr>\n",
       "    <tr>\n",
       "      <th>8</th>\n",
       "      <td>Full-Time Employee</td>\n",
       "      <td>Outdoor Adjacent</td>\n",
       "      <td>Washington State</td>\n",
       "      <td>In-Office</td>\n",
       "      <td>3</td>\n",
       "      <td>25000</td>\n",
       "      <td>/Year</td>\n",
       "      <td>Guiding or Instructing</td>\n",
       "      <td>2022-11-01 06:09:00</td>\n",
       "      <td>She/Her</td>\n",
       "      <td>2022</td>\n",
       "      <td>0-3 years</td>\n",
       "    </tr>\n",
       "    <tr>\n",
       "      <th>9</th>\n",
       "      <td>Full-Time Employee</td>\n",
       "      <td>Camp Jobs</td>\n",
       "      <td>Vermont</td>\n",
       "      <td>Hybrid/Work From Home</td>\n",
       "      <td>2</td>\n",
       "      <td>25000</td>\n",
       "      <td>/Year</td>\n",
       "      <td>Development and Operations</td>\n",
       "      <td>2022-11-09 23:00:08</td>\n",
       "      <td>He/Him</td>\n",
       "      <td>2022</td>\n",
       "      <td>0-3 years</td>\n",
       "    </tr>\n",
       "  </tbody>\n",
       "</table>\n",
       "</div>"
      ],
      "text/plain": [
       "                    I am a:                                         Industry  \\\n",
       "0        Full-Time Employee                                 Active Lifestyle   \n",
       "1        Full-Time Employee                                             Bike   \n",
       "2        Full-Time Employee                                        Camp Jobs   \n",
       "3  Contract/Seasonal Worker                                       Non-Profit   \n",
       "4                    Intern                                        Education   \n",
       "5  Contract/Seasonal Worker                                       Non-Profit   \n",
       "6        Full-Time Employee                                             Bike   \n",
       "7        Full-Time Employee  Outdoor (Multi-Industry Apparel/ Gear/Services)   \n",
       "8        Full-Time Employee                                 Outdoor Adjacent   \n",
       "9        Full-Time Employee                                        Camp Jobs   \n",
       "\n",
       "           Location            Flexibility Years of Experience    Pay  \\\n",
       "0        California           Fully Remote                 25+      0   \n",
       "1          Colorado              In-Office                   1     20   \n",
       "2          Colorado              In-Office                 15+   1500   \n",
       "3            Oregon              In-Office                   3  15000   \n",
       "4             Idaho              In-Office                   1  15000   \n",
       "5  Washington State  Hybrid/Work From Home                   4  20000   \n",
       "6             Spain              In-Office                   2  21000   \n",
       "7    United Kingdom  Hybrid/Work From Home    Less than a year  24000   \n",
       "8  Washington State              In-Office                   3  25000   \n",
       "9           Vermont  Hybrid/Work From Home                   2  25000   \n",
       "\n",
       "  I charge per:                      Field of work        Submitted At  \\\n",
       "0         /Year               Marketing & Branding 2022-10-31 15:14:23   \n",
       "1         /Year               Marketing & Branding 2023-01-19 21:19:56   \n",
       "2         /Year  Administrative/Virtual Assistance 2022-11-01 16:34:22   \n",
       "3         /Year             Guiding or Instructing 2022-10-31 20:36:11   \n",
       "4         /Year                          Education 2023-03-09 22:29:01   \n",
       "5         /Year             Guiding or Instructing 2022-11-08 03:55:00   \n",
       "6         /Year               Marketing & Branding 2022-10-31 16:25:02   \n",
       "7         /Year               Marketing & Branding 2022-10-31 21:17:35   \n",
       "8         /Year             Guiding or Instructing 2022-11-01 06:09:00   \n",
       "9         /Year         Development and Operations 2022-11-09 23:00:08   \n",
       "\n",
       "    Pronouns  Year Years of Exp.  \n",
       "0    She/Her  2022     10+ years  \n",
       "1    She/Her  2023     0-3 years  \n",
       "2  They/Them  2022     10+ years  \n",
       "3     He/Him  2022     0-3 years  \n",
       "4     He/Him  2023     0-3 years  \n",
       "5    She/Her  2022     4-6 years  \n",
       "6     He/Him  2022     0-3 years  \n",
       "7    She/Her  2022     0-3 years  \n",
       "8    She/Her  2022     0-3 years  \n",
       "9     He/Him  2022     0-3 years  "
      ]
     },
     "execution_count": 24,
     "metadata": {},
     "output_type": "execute_result"
    }
   ],
   "source": [
    "df_subset.head(10)"
   ]
  },
  {
   "cell_type": "code",
   "execution_count": 25,
   "metadata": {},
   "outputs": [],
   "source": [
    "# remove outliers with pay less than $100 per year\n",
    "index_sal_100 = df_subset[(df_subset['Pay'] <= 100)].index\n",
    "df_subset.drop(index_sal_100 , inplace=True)"
   ]
  },
  {
   "cell_type": "code",
   "execution_count": 26,
   "metadata": {},
   "outputs": [],
   "source": [
    "df_subset.to_csv(\"salary_data.csv\")"
   ]
  },
  {
   "cell_type": "code",
   "execution_count": 27,
   "metadata": {},
   "outputs": [
    {
     "data": {
      "text/plain": [
       "count       684.000000\n",
       "mean      75797.475146\n",
       "std       35808.735384\n",
       "min        1500.000000\n",
       "25%       53000.000000\n",
       "50%       68000.000000\n",
       "75%       88125.000000\n",
       "max      403950.000000\n",
       "Name: Pay, dtype: float64"
      ]
     },
     "execution_count": 27,
     "metadata": {},
     "output_type": "execute_result"
    }
   ],
   "source": [
    "df_subset.Pay.describe()"
   ]
  },
  {
   "cell_type": "code",
   "execution_count": 28,
   "metadata": {},
   "outputs": [
    {
     "data": {
      "text/plain": [
       "2022    575\n",
       "2023    109\n",
       "Name: Year, dtype: int64"
      ]
     },
     "execution_count": 28,
     "metadata": {},
     "output_type": "execute_result"
    }
   ],
   "source": [
    "df_subset.Year.value_counts()"
   ]
  },
  {
   "cell_type": "code",
   "execution_count": 31,
   "metadata": {},
   "outputs": [],
   "source": [
    "profile = ProfileReport(df_subset, title = \"Profiling Report\")"
   ]
  },
  {
   "cell_type": "code",
   "execution_count": 32,
   "metadata": {},
   "outputs": [
    {
     "name": "stderr",
     "output_type": "stream",
     "text": [
      "Summarize dataset: 100%|██████████| 22/22 [00:00<00:00, 22.63it/s, Completed]                           \n",
      "Generate report structure:   0%|          | 0/1 [00:00<?, ?it/s]\n"
     ]
    },
    {
     "ename": "ValueError",
     "evalue": "Only supported for TrueType fonts",
     "output_type": "error",
     "traceback": [
      "\u001b[1;31m---------------------------------------------------------------------------\u001b[0m",
      "\u001b[1;31mValueError\u001b[0m                                Traceback (most recent call last)",
      "\u001b[1;32m~\\AppData\\Local\\Temp/ipykernel_13032/1081930406.py\u001b[0m in \u001b[0;36m<module>\u001b[1;34m\u001b[0m\n\u001b[1;32m----> 1\u001b[1;33m \u001b[0mprofile\u001b[0m\u001b[1;33m.\u001b[0m\u001b[0mto_file\u001b[0m\u001b[1;33m(\u001b[0m\u001b[1;34m\"data_quality_report.html\"\u001b[0m\u001b[1;33m)\u001b[0m\u001b[1;33m\u001b[0m\u001b[1;33m\u001b[0m\u001b[0m\n\u001b[0m",
      "\u001b[1;32mc:\\Users\\jimmy\\miniconda3\\envs\\minimal_ds2\\lib\\site-packages\\typeguard\\__init__.py\u001b[0m in \u001b[0;36mwrapper\u001b[1;34m(*args, **kwargs)\u001b[0m\n\u001b[0;32m   1031\u001b[0m         \u001b[0mmemo\u001b[0m \u001b[1;33m=\u001b[0m \u001b[0m_CallMemo\u001b[0m\u001b[1;33m(\u001b[0m\u001b[0mpython_func\u001b[0m\u001b[1;33m,\u001b[0m \u001b[0m_localns\u001b[0m\u001b[1;33m,\u001b[0m \u001b[0margs\u001b[0m\u001b[1;33m=\u001b[0m\u001b[0margs\u001b[0m\u001b[1;33m,\u001b[0m \u001b[0mkwargs\u001b[0m\u001b[1;33m=\u001b[0m\u001b[0mkwargs\u001b[0m\u001b[1;33m)\u001b[0m\u001b[1;33m\u001b[0m\u001b[1;33m\u001b[0m\u001b[0m\n\u001b[0;32m   1032\u001b[0m         \u001b[0mcheck_argument_types\u001b[0m\u001b[1;33m(\u001b[0m\u001b[0mmemo\u001b[0m\u001b[1;33m)\u001b[0m\u001b[1;33m\u001b[0m\u001b[1;33m\u001b[0m\u001b[0m\n\u001b[1;32m-> 1033\u001b[1;33m         \u001b[0mretval\u001b[0m \u001b[1;33m=\u001b[0m \u001b[0mfunc\u001b[0m\u001b[1;33m(\u001b[0m\u001b[1;33m*\u001b[0m\u001b[0margs\u001b[0m\u001b[1;33m,\u001b[0m \u001b[1;33m**\u001b[0m\u001b[0mkwargs\u001b[0m\u001b[1;33m)\u001b[0m\u001b[1;33m\u001b[0m\u001b[1;33m\u001b[0m\u001b[0m\n\u001b[0m\u001b[0;32m   1034\u001b[0m         \u001b[1;32mtry\u001b[0m\u001b[1;33m:\u001b[0m\u001b[1;33m\u001b[0m\u001b[1;33m\u001b[0m\u001b[0m\n\u001b[0;32m   1035\u001b[0m             \u001b[0mcheck_return_type\u001b[0m\u001b[1;33m(\u001b[0m\u001b[0mretval\u001b[0m\u001b[1;33m,\u001b[0m \u001b[0mmemo\u001b[0m\u001b[1;33m)\u001b[0m\u001b[1;33m\u001b[0m\u001b[1;33m\u001b[0m\u001b[0m\n",
      "\u001b[1;32mc:\\Users\\jimmy\\miniconda3\\envs\\minimal_ds2\\lib\\site-packages\\ydata_profiling\\profile_report.py\u001b[0m in \u001b[0;36mto_file\u001b[1;34m(self, output_file, silent)\u001b[0m\n\u001b[0;32m    351\u001b[0m                 \u001b[0mcreate_html_assets\u001b[0m\u001b[1;33m(\u001b[0m\u001b[0mself\u001b[0m\u001b[1;33m.\u001b[0m\u001b[0mconfig\u001b[0m\u001b[1;33m,\u001b[0m \u001b[0moutput_file\u001b[0m\u001b[1;33m)\u001b[0m\u001b[1;33m\u001b[0m\u001b[1;33m\u001b[0m\u001b[0m\n\u001b[0;32m    352\u001b[0m \u001b[1;33m\u001b[0m\u001b[0m\n\u001b[1;32m--> 353\u001b[1;33m             \u001b[0mdata\u001b[0m \u001b[1;33m=\u001b[0m \u001b[0mself\u001b[0m\u001b[1;33m.\u001b[0m\u001b[0mto_html\u001b[0m\u001b[1;33m(\u001b[0m\u001b[1;33m)\u001b[0m\u001b[1;33m\u001b[0m\u001b[1;33m\u001b[0m\u001b[0m\n\u001b[0m\u001b[0;32m    354\u001b[0m \u001b[1;33m\u001b[0m\u001b[0m\n\u001b[0;32m    355\u001b[0m             \u001b[1;32mif\u001b[0m \u001b[0moutput_file\u001b[0m\u001b[1;33m.\u001b[0m\u001b[0msuffix\u001b[0m \u001b[1;33m!=\u001b[0m \u001b[1;34m\".html\"\u001b[0m\u001b[1;33m:\u001b[0m\u001b[1;33m\u001b[0m\u001b[1;33m\u001b[0m\u001b[0m\n",
      "\u001b[1;32mc:\\Users\\jimmy\\miniconda3\\envs\\minimal_ds2\\lib\\site-packages\\typeguard\\__init__.py\u001b[0m in \u001b[0;36mwrapper\u001b[1;34m(*args, **kwargs)\u001b[0m\n\u001b[0;32m   1031\u001b[0m         \u001b[0mmemo\u001b[0m \u001b[1;33m=\u001b[0m \u001b[0m_CallMemo\u001b[0m\u001b[1;33m(\u001b[0m\u001b[0mpython_func\u001b[0m\u001b[1;33m,\u001b[0m \u001b[0m_localns\u001b[0m\u001b[1;33m,\u001b[0m \u001b[0margs\u001b[0m\u001b[1;33m=\u001b[0m\u001b[0margs\u001b[0m\u001b[1;33m,\u001b[0m \u001b[0mkwargs\u001b[0m\u001b[1;33m=\u001b[0m\u001b[0mkwargs\u001b[0m\u001b[1;33m)\u001b[0m\u001b[1;33m\u001b[0m\u001b[1;33m\u001b[0m\u001b[0m\n\u001b[0;32m   1032\u001b[0m         \u001b[0mcheck_argument_types\u001b[0m\u001b[1;33m(\u001b[0m\u001b[0mmemo\u001b[0m\u001b[1;33m)\u001b[0m\u001b[1;33m\u001b[0m\u001b[1;33m\u001b[0m\u001b[0m\n\u001b[1;32m-> 1033\u001b[1;33m         \u001b[0mretval\u001b[0m \u001b[1;33m=\u001b[0m \u001b[0mfunc\u001b[0m\u001b[1;33m(\u001b[0m\u001b[1;33m*\u001b[0m\u001b[0margs\u001b[0m\u001b[1;33m,\u001b[0m \u001b[1;33m**\u001b[0m\u001b[0mkwargs\u001b[0m\u001b[1;33m)\u001b[0m\u001b[1;33m\u001b[0m\u001b[1;33m\u001b[0m\u001b[0m\n\u001b[0m\u001b[0;32m   1034\u001b[0m         \u001b[1;32mtry\u001b[0m\u001b[1;33m:\u001b[0m\u001b[1;33m\u001b[0m\u001b[1;33m\u001b[0m\u001b[0m\n\u001b[0;32m   1035\u001b[0m             \u001b[0mcheck_return_type\u001b[0m\u001b[1;33m(\u001b[0m\u001b[0mretval\u001b[0m\u001b[1;33m,\u001b[0m \u001b[0mmemo\u001b[0m\u001b[1;33m)\u001b[0m\u001b[1;33m\u001b[0m\u001b[1;33m\u001b[0m\u001b[0m\n",
      "\u001b[1;32mc:\\Users\\jimmy\\miniconda3\\envs\\minimal_ds2\\lib\\site-packages\\ydata_profiling\\profile_report.py\u001b[0m in \u001b[0;36mto_html\u001b[1;34m(self)\u001b[0m\n\u001b[0;32m    466\u001b[0m \u001b[1;33m\u001b[0m\u001b[0m\n\u001b[0;32m    467\u001b[0m         \"\"\"\n\u001b[1;32m--> 468\u001b[1;33m         \u001b[1;32mreturn\u001b[0m \u001b[0mself\u001b[0m\u001b[1;33m.\u001b[0m\u001b[0mhtml\u001b[0m\u001b[1;33m\u001b[0m\u001b[1;33m\u001b[0m\u001b[0m\n\u001b[0m\u001b[0;32m    469\u001b[0m \u001b[1;33m\u001b[0m\u001b[0m\n\u001b[0;32m    470\u001b[0m     \u001b[1;32mdef\u001b[0m \u001b[0mto_json\u001b[0m\u001b[1;33m(\u001b[0m\u001b[0mself\u001b[0m\u001b[1;33m)\u001b[0m \u001b[1;33m->\u001b[0m \u001b[0mstr\u001b[0m\u001b[1;33m:\u001b[0m\u001b[1;33m\u001b[0m\u001b[1;33m\u001b[0m\u001b[0m\n",
      "\u001b[1;32mc:\\Users\\jimmy\\miniconda3\\envs\\minimal_ds2\\lib\\site-packages\\typeguard\\__init__.py\u001b[0m in \u001b[0;36mwrapper\u001b[1;34m(*args, **kwargs)\u001b[0m\n\u001b[0;32m   1031\u001b[0m         \u001b[0mmemo\u001b[0m \u001b[1;33m=\u001b[0m \u001b[0m_CallMemo\u001b[0m\u001b[1;33m(\u001b[0m\u001b[0mpython_func\u001b[0m\u001b[1;33m,\u001b[0m \u001b[0m_localns\u001b[0m\u001b[1;33m,\u001b[0m \u001b[0margs\u001b[0m\u001b[1;33m=\u001b[0m\u001b[0margs\u001b[0m\u001b[1;33m,\u001b[0m \u001b[0mkwargs\u001b[0m\u001b[1;33m=\u001b[0m\u001b[0mkwargs\u001b[0m\u001b[1;33m)\u001b[0m\u001b[1;33m\u001b[0m\u001b[1;33m\u001b[0m\u001b[0m\n\u001b[0;32m   1032\u001b[0m         \u001b[0mcheck_argument_types\u001b[0m\u001b[1;33m(\u001b[0m\u001b[0mmemo\u001b[0m\u001b[1;33m)\u001b[0m\u001b[1;33m\u001b[0m\u001b[1;33m\u001b[0m\u001b[0m\n\u001b[1;32m-> 1033\u001b[1;33m         \u001b[0mretval\u001b[0m \u001b[1;33m=\u001b[0m \u001b[0mfunc\u001b[0m\u001b[1;33m(\u001b[0m\u001b[1;33m*\u001b[0m\u001b[0margs\u001b[0m\u001b[1;33m,\u001b[0m \u001b[1;33m**\u001b[0m\u001b[0mkwargs\u001b[0m\u001b[1;33m)\u001b[0m\u001b[1;33m\u001b[0m\u001b[1;33m\u001b[0m\u001b[0m\n\u001b[0m\u001b[0;32m   1034\u001b[0m         \u001b[1;32mtry\u001b[0m\u001b[1;33m:\u001b[0m\u001b[1;33m\u001b[0m\u001b[1;33m\u001b[0m\u001b[0m\n\u001b[0;32m   1035\u001b[0m             \u001b[0mcheck_return_type\u001b[0m\u001b[1;33m(\u001b[0m\u001b[0mretval\u001b[0m\u001b[1;33m,\u001b[0m \u001b[0mmemo\u001b[0m\u001b[1;33m)\u001b[0m\u001b[1;33m\u001b[0m\u001b[1;33m\u001b[0m\u001b[0m\n",
      "\u001b[1;32mc:\\Users\\jimmy\\miniconda3\\envs\\minimal_ds2\\lib\\site-packages\\ydata_profiling\\profile_report.py\u001b[0m in \u001b[0;36mhtml\u001b[1;34m(self)\u001b[0m\n\u001b[0;32m    273\u001b[0m     \u001b[1;32mdef\u001b[0m \u001b[0mhtml\u001b[0m\u001b[1;33m(\u001b[0m\u001b[0mself\u001b[0m\u001b[1;33m)\u001b[0m \u001b[1;33m->\u001b[0m \u001b[0mstr\u001b[0m\u001b[1;33m:\u001b[0m\u001b[1;33m\u001b[0m\u001b[1;33m\u001b[0m\u001b[0m\n\u001b[0;32m    274\u001b[0m         \u001b[1;32mif\u001b[0m \u001b[0mself\u001b[0m\u001b[1;33m.\u001b[0m\u001b[0m_html\u001b[0m \u001b[1;32mis\u001b[0m \u001b[1;32mNone\u001b[0m\u001b[1;33m:\u001b[0m\u001b[1;33m\u001b[0m\u001b[1;33m\u001b[0m\u001b[0m\n\u001b[1;32m--> 275\u001b[1;33m             \u001b[0mself\u001b[0m\u001b[1;33m.\u001b[0m\u001b[0m_html\u001b[0m \u001b[1;33m=\u001b[0m \u001b[0mself\u001b[0m\u001b[1;33m.\u001b[0m\u001b[0m_render_html\u001b[0m\u001b[1;33m(\u001b[0m\u001b[1;33m)\u001b[0m\u001b[1;33m\u001b[0m\u001b[1;33m\u001b[0m\u001b[0m\n\u001b[0m\u001b[0;32m    276\u001b[0m         \u001b[1;32mreturn\u001b[0m \u001b[0mself\u001b[0m\u001b[1;33m.\u001b[0m\u001b[0m_html\u001b[0m\u001b[1;33m\u001b[0m\u001b[1;33m\u001b[0m\u001b[0m\n\u001b[0;32m    277\u001b[0m \u001b[1;33m\u001b[0m\u001b[0m\n",
      "\u001b[1;32mc:\\Users\\jimmy\\miniconda3\\envs\\minimal_ds2\\lib\\site-packages\\typeguard\\__init__.py\u001b[0m in \u001b[0;36mwrapper\u001b[1;34m(*args, **kwargs)\u001b[0m\n\u001b[0;32m   1031\u001b[0m         \u001b[0mmemo\u001b[0m \u001b[1;33m=\u001b[0m \u001b[0m_CallMemo\u001b[0m\u001b[1;33m(\u001b[0m\u001b[0mpython_func\u001b[0m\u001b[1;33m,\u001b[0m \u001b[0m_localns\u001b[0m\u001b[1;33m,\u001b[0m \u001b[0margs\u001b[0m\u001b[1;33m=\u001b[0m\u001b[0margs\u001b[0m\u001b[1;33m,\u001b[0m \u001b[0mkwargs\u001b[0m\u001b[1;33m=\u001b[0m\u001b[0mkwargs\u001b[0m\u001b[1;33m)\u001b[0m\u001b[1;33m\u001b[0m\u001b[1;33m\u001b[0m\u001b[0m\n\u001b[0;32m   1032\u001b[0m         \u001b[0mcheck_argument_types\u001b[0m\u001b[1;33m(\u001b[0m\u001b[0mmemo\u001b[0m\u001b[1;33m)\u001b[0m\u001b[1;33m\u001b[0m\u001b[1;33m\u001b[0m\u001b[0m\n\u001b[1;32m-> 1033\u001b[1;33m         \u001b[0mretval\u001b[0m \u001b[1;33m=\u001b[0m \u001b[0mfunc\u001b[0m\u001b[1;33m(\u001b[0m\u001b[1;33m*\u001b[0m\u001b[0margs\u001b[0m\u001b[1;33m,\u001b[0m \u001b[1;33m**\u001b[0m\u001b[0mkwargs\u001b[0m\u001b[1;33m)\u001b[0m\u001b[1;33m\u001b[0m\u001b[1;33m\u001b[0m\u001b[0m\n\u001b[0m\u001b[0;32m   1034\u001b[0m         \u001b[1;32mtry\u001b[0m\u001b[1;33m:\u001b[0m\u001b[1;33m\u001b[0m\u001b[1;33m\u001b[0m\u001b[0m\n\u001b[0;32m   1035\u001b[0m             \u001b[0mcheck_return_type\u001b[0m\u001b[1;33m(\u001b[0m\u001b[0mretval\u001b[0m\u001b[1;33m,\u001b[0m \u001b[0mmemo\u001b[0m\u001b[1;33m)\u001b[0m\u001b[1;33m\u001b[0m\u001b[1;33m\u001b[0m\u001b[0m\n",
      "\u001b[1;32mc:\\Users\\jimmy\\miniconda3\\envs\\minimal_ds2\\lib\\site-packages\\ydata_profiling\\profile_report.py\u001b[0m in \u001b[0;36m_render_html\u001b[1;34m(self)\u001b[0m\n\u001b[0;32m    381\u001b[0m         \u001b[1;32mfrom\u001b[0m \u001b[0mydata_profiling\u001b[0m\u001b[1;33m.\u001b[0m\u001b[0mreport\u001b[0m\u001b[1;33m.\u001b[0m\u001b[0mpresentation\u001b[0m\u001b[1;33m.\u001b[0m\u001b[0mflavours\u001b[0m \u001b[1;32mimport\u001b[0m \u001b[0mHTMLReport\u001b[0m\u001b[1;33m\u001b[0m\u001b[1;33m\u001b[0m\u001b[0m\n\u001b[0;32m    382\u001b[0m \u001b[1;33m\u001b[0m\u001b[0m\n\u001b[1;32m--> 383\u001b[1;33m         \u001b[0mreport\u001b[0m \u001b[1;33m=\u001b[0m \u001b[0mself\u001b[0m\u001b[1;33m.\u001b[0m\u001b[0mreport\u001b[0m\u001b[1;33m\u001b[0m\u001b[1;33m\u001b[0m\u001b[0m\n\u001b[0m\u001b[0;32m    384\u001b[0m \u001b[1;33m\u001b[0m\u001b[0m\n\u001b[0;32m    385\u001b[0m         with tqdm(\n",
      "\u001b[1;32mc:\\Users\\jimmy\\miniconda3\\envs\\minimal_ds2\\lib\\site-packages\\typeguard\\__init__.py\u001b[0m in \u001b[0;36mwrapper\u001b[1;34m(*args, **kwargs)\u001b[0m\n\u001b[0;32m   1031\u001b[0m         \u001b[0mmemo\u001b[0m \u001b[1;33m=\u001b[0m \u001b[0m_CallMemo\u001b[0m\u001b[1;33m(\u001b[0m\u001b[0mpython_func\u001b[0m\u001b[1;33m,\u001b[0m \u001b[0m_localns\u001b[0m\u001b[1;33m,\u001b[0m \u001b[0margs\u001b[0m\u001b[1;33m=\u001b[0m\u001b[0margs\u001b[0m\u001b[1;33m,\u001b[0m \u001b[0mkwargs\u001b[0m\u001b[1;33m=\u001b[0m\u001b[0mkwargs\u001b[0m\u001b[1;33m)\u001b[0m\u001b[1;33m\u001b[0m\u001b[1;33m\u001b[0m\u001b[0m\n\u001b[0;32m   1032\u001b[0m         \u001b[0mcheck_argument_types\u001b[0m\u001b[1;33m(\u001b[0m\u001b[0mmemo\u001b[0m\u001b[1;33m)\u001b[0m\u001b[1;33m\u001b[0m\u001b[1;33m\u001b[0m\u001b[0m\n\u001b[1;32m-> 1033\u001b[1;33m         \u001b[0mretval\u001b[0m \u001b[1;33m=\u001b[0m \u001b[0mfunc\u001b[0m\u001b[1;33m(\u001b[0m\u001b[1;33m*\u001b[0m\u001b[0margs\u001b[0m\u001b[1;33m,\u001b[0m \u001b[1;33m**\u001b[0m\u001b[0mkwargs\u001b[0m\u001b[1;33m)\u001b[0m\u001b[1;33m\u001b[0m\u001b[1;33m\u001b[0m\u001b[0m\n\u001b[0m\u001b[0;32m   1034\u001b[0m         \u001b[1;32mtry\u001b[0m\u001b[1;33m:\u001b[0m\u001b[1;33m\u001b[0m\u001b[1;33m\u001b[0m\u001b[0m\n\u001b[0;32m   1035\u001b[0m             \u001b[0mcheck_return_type\u001b[0m\u001b[1;33m(\u001b[0m\u001b[0mretval\u001b[0m\u001b[1;33m,\u001b[0m \u001b[0mmemo\u001b[0m\u001b[1;33m)\u001b[0m\u001b[1;33m\u001b[0m\u001b[1;33m\u001b[0m\u001b[0m\n",
      "\u001b[1;32mc:\\Users\\jimmy\\miniconda3\\envs\\minimal_ds2\\lib\\site-packages\\ydata_profiling\\profile_report.py\u001b[0m in \u001b[0;36mreport\u001b[1;34m(self)\u001b[0m\n\u001b[0;32m    267\u001b[0m     \u001b[1;32mdef\u001b[0m \u001b[0mreport\u001b[0m\u001b[1;33m(\u001b[0m\u001b[0mself\u001b[0m\u001b[1;33m)\u001b[0m \u001b[1;33m->\u001b[0m \u001b[0mRoot\u001b[0m\u001b[1;33m:\u001b[0m\u001b[1;33m\u001b[0m\u001b[1;33m\u001b[0m\u001b[0m\n\u001b[0;32m    268\u001b[0m         \u001b[1;32mif\u001b[0m \u001b[0mself\u001b[0m\u001b[1;33m.\u001b[0m\u001b[0m_report\u001b[0m \u001b[1;32mis\u001b[0m \u001b[1;32mNone\u001b[0m\u001b[1;33m:\u001b[0m\u001b[1;33m\u001b[0m\u001b[1;33m\u001b[0m\u001b[0m\n\u001b[1;32m--> 269\u001b[1;33m             \u001b[0mself\u001b[0m\u001b[1;33m.\u001b[0m\u001b[0m_report\u001b[0m \u001b[1;33m=\u001b[0m \u001b[0mget_report_structure\u001b[0m\u001b[1;33m(\u001b[0m\u001b[0mself\u001b[0m\u001b[1;33m.\u001b[0m\u001b[0mconfig\u001b[0m\u001b[1;33m,\u001b[0m \u001b[0mself\u001b[0m\u001b[1;33m.\u001b[0m\u001b[0mdescription_set\u001b[0m\u001b[1;33m)\u001b[0m\u001b[1;33m\u001b[0m\u001b[1;33m\u001b[0m\u001b[0m\n\u001b[0m\u001b[0;32m    270\u001b[0m         \u001b[1;32mreturn\u001b[0m \u001b[0mself\u001b[0m\u001b[1;33m.\u001b[0m\u001b[0m_report\u001b[0m\u001b[1;33m\u001b[0m\u001b[1;33m\u001b[0m\u001b[0m\n\u001b[0;32m    271\u001b[0m \u001b[1;33m\u001b[0m\u001b[0m\n",
      "\u001b[1;32mc:\\Users\\jimmy\\miniconda3\\envs\\minimal_ds2\\lib\\site-packages\\ydata_profiling\\report\\structure\\report.py\u001b[0m in \u001b[0;36mget_report_structure\u001b[1;34m(config, summary)\u001b[0m\n\u001b[0;32m    384\u001b[0m                     \u001b[0mitems\u001b[0m\u001b[1;33m=\u001b[0m\u001b[0mlist\u001b[0m\u001b[1;33m(\u001b[0m\u001b[0msummary\u001b[0m\u001b[1;33m.\u001b[0m\u001b[0mvariables\u001b[0m\u001b[1;33m)\u001b[0m\u001b[1;33m,\u001b[0m\u001b[1;33m\u001b[0m\u001b[1;33m\u001b[0m\u001b[0m\n\u001b[0;32m    385\u001b[0m                     item=Container(\n\u001b[1;32m--> 386\u001b[1;33m                         \u001b[0mrender_variables_section\u001b[0m\u001b[1;33m(\u001b[0m\u001b[0mconfig\u001b[0m\u001b[1;33m,\u001b[0m \u001b[0msummary\u001b[0m\u001b[1;33m)\u001b[0m\u001b[1;33m,\u001b[0m\u001b[1;33m\u001b[0m\u001b[1;33m\u001b[0m\u001b[0m\n\u001b[0m\u001b[0;32m    387\u001b[0m                         \u001b[0msequence_type\u001b[0m\u001b[1;33m=\u001b[0m\u001b[1;34m\"accordion\"\u001b[0m\u001b[1;33m,\u001b[0m\u001b[1;33m\u001b[0m\u001b[1;33m\u001b[0m\u001b[0m\n\u001b[0;32m    388\u001b[0m                         \u001b[0mname\u001b[0m\u001b[1;33m=\u001b[0m\u001b[1;34m\"Variables\"\u001b[0m\u001b[1;33m,\u001b[0m\u001b[1;33m\u001b[0m\u001b[1;33m\u001b[0m\u001b[0m\n",
      "\u001b[1;32mc:\\Users\\jimmy\\miniconda3\\envs\\minimal_ds2\\lib\\site-packages\\ydata_profiling\\report\\structure\\report.py\u001b[0m in \u001b[0;36mrender_variables_section\u001b[1;34m(config, dataframe_summary)\u001b[0m\n\u001b[0;32m    159\u001b[0m             \u001b[0mvariable_type\u001b[0m \u001b[1;33m=\u001b[0m \u001b[0msummary\u001b[0m\u001b[1;33m[\u001b[0m\u001b[1;34m\"type\"\u001b[0m\u001b[1;33m]\u001b[0m\u001b[1;33m\u001b[0m\u001b[1;33m\u001b[0m\u001b[0m\n\u001b[0;32m    160\u001b[0m         \u001b[0mrender_map_type\u001b[0m \u001b[1;33m=\u001b[0m \u001b[0mrender_map\u001b[0m\u001b[1;33m.\u001b[0m\u001b[0mget\u001b[0m\u001b[1;33m(\u001b[0m\u001b[0mvariable_type\u001b[0m\u001b[1;33m,\u001b[0m \u001b[0mrender_map\u001b[0m\u001b[1;33m[\u001b[0m\u001b[1;34m\"Unsupported\"\u001b[0m\u001b[1;33m]\u001b[0m\u001b[1;33m)\u001b[0m\u001b[1;33m\u001b[0m\u001b[1;33m\u001b[0m\u001b[0m\n\u001b[1;32m--> 161\u001b[1;33m         \u001b[0mtemplate_variables\u001b[0m\u001b[1;33m.\u001b[0m\u001b[0mupdate\u001b[0m\u001b[1;33m(\u001b[0m\u001b[0mrender_map_type\u001b[0m\u001b[1;33m(\u001b[0m\u001b[0mconfig\u001b[0m\u001b[1;33m,\u001b[0m \u001b[0mtemplate_variables\u001b[0m\u001b[1;33m)\u001b[0m\u001b[1;33m)\u001b[0m\u001b[1;33m\u001b[0m\u001b[1;33m\u001b[0m\u001b[0m\n\u001b[0m\u001b[0;32m    162\u001b[0m \u001b[1;33m\u001b[0m\u001b[0m\n\u001b[0;32m    163\u001b[0m         \u001b[1;31m# Ignore these\u001b[0m\u001b[1;33m\u001b[0m\u001b[1;33m\u001b[0m\u001b[0m\n",
      "\u001b[1;32mc:\\Users\\jimmy\\miniconda3\\envs\\minimal_ds2\\lib\\site-packages\\ydata_profiling\\report\\structure\\variables\\render_text.py\u001b[0m in \u001b[0;36mrender_text\u001b[1;34m(config, summary)\u001b[0m\n\u001b[0;32m     74\u001b[0m     \u001b[1;32mif\u001b[0m \u001b[0mwords\u001b[0m \u001b[1;32mand\u001b[0m \u001b[1;34m\"word_counts\"\u001b[0m \u001b[1;32min\u001b[0m \u001b[0msummary\u001b[0m\u001b[1;33m:\u001b[0m\u001b[1;33m\u001b[0m\u001b[1;33m\u001b[0m\u001b[0m\n\u001b[0;32m     75\u001b[0m         mini_wordcloud = Image(\n\u001b[1;32m---> 76\u001b[1;33m             \u001b[0mplot_word_cloud\u001b[0m\u001b[1;33m(\u001b[0m\u001b[0mconfig\u001b[0m\u001b[1;33m,\u001b[0m \u001b[0msummary\u001b[0m\u001b[1;33m[\u001b[0m\u001b[1;34m\"word_counts\"\u001b[0m\u001b[1;33m]\u001b[0m\u001b[1;33m)\u001b[0m\u001b[1;33m,\u001b[0m\u001b[1;33m\u001b[0m\u001b[1;33m\u001b[0m\u001b[0m\n\u001b[0m\u001b[0;32m     77\u001b[0m             \u001b[0mimage_format\u001b[0m\u001b[1;33m=\u001b[0m\u001b[0mconfig\u001b[0m\u001b[1;33m.\u001b[0m\u001b[0mplot\u001b[0m\u001b[1;33m.\u001b[0m\u001b[0mimage_format\u001b[0m\u001b[1;33m,\u001b[0m\u001b[1;33m\u001b[0m\u001b[1;33m\u001b[0m\u001b[0m\n\u001b[0;32m     78\u001b[0m             \u001b[0malt\u001b[0m\u001b[1;33m=\u001b[0m\u001b[1;34m\"Mini wordcloud\"\u001b[0m\u001b[1;33m,\u001b[0m\u001b[1;33m\u001b[0m\u001b[1;33m\u001b[0m\u001b[0m\n",
      "\u001b[1;32mc:\\Users\\jimmy\\miniconda3\\envs\\minimal_ds2\\lib\\contextlib.py\u001b[0m in \u001b[0;36minner\u001b[1;34m(*args, **kwds)\u001b[0m\n\u001b[0;32m     77\u001b[0m         \u001b[1;32mdef\u001b[0m \u001b[0minner\u001b[0m\u001b[1;33m(\u001b[0m\u001b[1;33m*\u001b[0m\u001b[0margs\u001b[0m\u001b[1;33m,\u001b[0m \u001b[1;33m**\u001b[0m\u001b[0mkwds\u001b[0m\u001b[1;33m)\u001b[0m\u001b[1;33m:\u001b[0m\u001b[1;33m\u001b[0m\u001b[1;33m\u001b[0m\u001b[0m\n\u001b[0;32m     78\u001b[0m             \u001b[1;32mwith\u001b[0m \u001b[0mself\u001b[0m\u001b[1;33m.\u001b[0m\u001b[0m_recreate_cm\u001b[0m\u001b[1;33m(\u001b[0m\u001b[1;33m)\u001b[0m\u001b[1;33m:\u001b[0m\u001b[1;33m\u001b[0m\u001b[1;33m\u001b[0m\u001b[0m\n\u001b[1;32m---> 79\u001b[1;33m                 \u001b[1;32mreturn\u001b[0m \u001b[0mfunc\u001b[0m\u001b[1;33m(\u001b[0m\u001b[1;33m*\u001b[0m\u001b[0margs\u001b[0m\u001b[1;33m,\u001b[0m \u001b[1;33m**\u001b[0m\u001b[0mkwds\u001b[0m\u001b[1;33m)\u001b[0m\u001b[1;33m\u001b[0m\u001b[1;33m\u001b[0m\u001b[0m\n\u001b[0m\u001b[0;32m     80\u001b[0m         \u001b[1;32mreturn\u001b[0m \u001b[0minner\u001b[0m\u001b[1;33m\u001b[0m\u001b[1;33m\u001b[0m\u001b[0m\n\u001b[0;32m     81\u001b[0m \u001b[1;33m\u001b[0m\u001b[0m\n",
      "\u001b[1;32mc:\\Users\\jimmy\\miniconda3\\envs\\minimal_ds2\\lib\\site-packages\\ydata_profiling\\visualisation\\plot.py\u001b[0m in \u001b[0;36mplot_word_cloud\u001b[1;34m(config, word_counts)\u001b[0m\n\u001b[0;32m    117\u001b[0m \u001b[1;33m@\u001b[0m\u001b[0mmanage_matplotlib_context\u001b[0m\u001b[1;33m(\u001b[0m\u001b[1;33m)\u001b[0m\u001b[1;33m\u001b[0m\u001b[1;33m\u001b[0m\u001b[0m\n\u001b[0;32m    118\u001b[0m \u001b[1;32mdef\u001b[0m \u001b[0mplot_word_cloud\u001b[0m\u001b[1;33m(\u001b[0m\u001b[0mconfig\u001b[0m\u001b[1;33m:\u001b[0m \u001b[0mSettings\u001b[0m\u001b[1;33m,\u001b[0m \u001b[0mword_counts\u001b[0m\u001b[1;33m:\u001b[0m \u001b[0mpd\u001b[0m\u001b[1;33m.\u001b[0m\u001b[0mSeries\u001b[0m\u001b[1;33m)\u001b[0m \u001b[1;33m->\u001b[0m \u001b[0mstr\u001b[0m\u001b[1;33m:\u001b[0m\u001b[1;33m\u001b[0m\u001b[1;33m\u001b[0m\u001b[0m\n\u001b[1;32m--> 119\u001b[1;33m     \u001b[0m_plot_word_cloud\u001b[0m\u001b[1;33m(\u001b[0m\u001b[0mseries\u001b[0m\u001b[1;33m=\u001b[0m\u001b[0mword_counts\u001b[0m\u001b[1;33m)\u001b[0m\u001b[1;33m\u001b[0m\u001b[1;33m\u001b[0m\u001b[0m\n\u001b[0m\u001b[0;32m    120\u001b[0m     \u001b[1;32mreturn\u001b[0m \u001b[0mplot_360_n0sc0pe\u001b[0m\u001b[1;33m(\u001b[0m\u001b[0mconfig\u001b[0m\u001b[1;33m)\u001b[0m\u001b[1;33m\u001b[0m\u001b[1;33m\u001b[0m\u001b[0m\n\u001b[0;32m    121\u001b[0m \u001b[1;33m\u001b[0m\u001b[0m\n",
      "\u001b[1;32mc:\\Users\\jimmy\\miniconda3\\envs\\minimal_ds2\\lib\\site-packages\\ydata_profiling\\visualisation\\plot.py\u001b[0m in \u001b[0;36m_plot_word_cloud\u001b[1;34m(series, figsize)\u001b[0m\n\u001b[0;32m     31\u001b[0m ) -> plt.Figure:\n\u001b[0;32m     32\u001b[0m     \u001b[0mword_dict\u001b[0m \u001b[1;33m=\u001b[0m \u001b[0mseries\u001b[0m\u001b[1;33m.\u001b[0m\u001b[0mto_dict\u001b[0m\u001b[1;33m(\u001b[0m\u001b[1;33m)\u001b[0m\u001b[1;33m\u001b[0m\u001b[1;33m\u001b[0m\u001b[0m\n\u001b[1;32m---> 33\u001b[1;33m     wordcloud = WordCloud(\n\u001b[0m\u001b[0;32m     34\u001b[0m         \u001b[0mbackground_color\u001b[0m\u001b[1;33m=\u001b[0m\u001b[1;34m\"white\"\u001b[0m\u001b[1;33m,\u001b[0m \u001b[0mrandom_state\u001b[0m\u001b[1;33m=\u001b[0m\u001b[1;36m123\u001b[0m\u001b[1;33m,\u001b[0m \u001b[0mwidth\u001b[0m\u001b[1;33m=\u001b[0m\u001b[1;36m300\u001b[0m\u001b[1;33m,\u001b[0m \u001b[0mheight\u001b[0m\u001b[1;33m=\u001b[0m\u001b[1;36m200\u001b[0m\u001b[1;33m,\u001b[0m \u001b[0mscale\u001b[0m\u001b[1;33m=\u001b[0m\u001b[1;36m2\u001b[0m\u001b[1;33m\u001b[0m\u001b[1;33m\u001b[0m\u001b[0m\n\u001b[0;32m     35\u001b[0m     ).generate_from_frequencies(word_dict)\n",
      "\u001b[1;32mc:\\Users\\jimmy\\miniconda3\\envs\\minimal_ds2\\lib\\site-packages\\wordcloud\\wordcloud.py\u001b[0m in \u001b[0;36mgenerate_from_frequencies\u001b[1;34m(self, frequencies, max_font_size)\u001b[0m\n\u001b[0;32m    451\u001b[0m                 \u001b[0mfont_size\u001b[0m \u001b[1;33m=\u001b[0m \u001b[0mself\u001b[0m\u001b[1;33m.\u001b[0m\u001b[0mheight\u001b[0m\u001b[1;33m\u001b[0m\u001b[1;33m\u001b[0m\u001b[0m\n\u001b[0;32m    452\u001b[0m             \u001b[1;32melse\u001b[0m\u001b[1;33m:\u001b[0m\u001b[1;33m\u001b[0m\u001b[1;33m\u001b[0m\u001b[0m\n\u001b[1;32m--> 453\u001b[1;33m                 self.generate_from_frequencies(dict(frequencies[:2]),\n\u001b[0m\u001b[0;32m    454\u001b[0m                                                max_font_size=self.height)\n\u001b[0;32m    455\u001b[0m                 \u001b[1;31m# find font sizes\u001b[0m\u001b[1;33m\u001b[0m\u001b[1;33m\u001b[0m\u001b[0m\n",
      "\u001b[1;32mc:\\Users\\jimmy\\miniconda3\\envs\\minimal_ds2\\lib\\site-packages\\wordcloud\\wordcloud.py\u001b[0m in \u001b[0;36mgenerate_from_frequencies\u001b[1;34m(self, frequencies, max_font_size)\u001b[0m\n\u001b[0;32m    506\u001b[0m                     font, orientation=orientation)\n\u001b[0;32m    507\u001b[0m                 \u001b[1;31m# get size of resulting text\u001b[0m\u001b[1;33m\u001b[0m\u001b[1;33m\u001b[0m\u001b[0m\n\u001b[1;32m--> 508\u001b[1;33m                 \u001b[0mbox_size\u001b[0m \u001b[1;33m=\u001b[0m \u001b[0mdraw\u001b[0m\u001b[1;33m.\u001b[0m\u001b[0mtextbbox\u001b[0m\u001b[1;33m(\u001b[0m\u001b[1;33m(\u001b[0m\u001b[1;36m0\u001b[0m\u001b[1;33m,\u001b[0m \u001b[1;36m0\u001b[0m\u001b[1;33m)\u001b[0m\u001b[1;33m,\u001b[0m \u001b[0mword\u001b[0m\u001b[1;33m,\u001b[0m \u001b[0mfont\u001b[0m\u001b[1;33m=\u001b[0m\u001b[0mtransposed_font\u001b[0m\u001b[1;33m,\u001b[0m \u001b[0manchor\u001b[0m\u001b[1;33m=\u001b[0m\u001b[1;34m\"lt\"\u001b[0m\u001b[1;33m)\u001b[0m\u001b[1;33m\u001b[0m\u001b[1;33m\u001b[0m\u001b[0m\n\u001b[0m\u001b[0;32m    509\u001b[0m                 \u001b[1;31m# find possible places using integral image:\u001b[0m\u001b[1;33m\u001b[0m\u001b[1;33m\u001b[0m\u001b[0m\n\u001b[0;32m    510\u001b[0m                 result = occupancy.sample_position(box_size[3] + self.margin,\n",
      "\u001b[1;32mc:\\Users\\jimmy\\miniconda3\\envs\\minimal_ds2\\lib\\site-packages\\PIL\\ImageDraw.py\u001b[0m in \u001b[0;36mtextbbox\u001b[1;34m(self, xy, text, font, anchor, spacing, align, direction, features, language, stroke_width, embedded_color)\u001b[0m\n\u001b[0;32m    649\u001b[0m             \u001b[0mfont\u001b[0m \u001b[1;33m=\u001b[0m \u001b[0mself\u001b[0m\u001b[1;33m.\u001b[0m\u001b[0mgetfont\u001b[0m\u001b[1;33m(\u001b[0m\u001b[1;33m)\u001b[0m\u001b[1;33m\u001b[0m\u001b[1;33m\u001b[0m\u001b[0m\n\u001b[0;32m    650\u001b[0m         \u001b[1;32mif\u001b[0m \u001b[1;32mnot\u001b[0m \u001b[0misinstance\u001b[0m\u001b[1;33m(\u001b[0m\u001b[0mfont\u001b[0m\u001b[1;33m,\u001b[0m \u001b[0mImageFont\u001b[0m\u001b[1;33m.\u001b[0m\u001b[0mFreeTypeFont\u001b[0m\u001b[1;33m)\u001b[0m\u001b[1;33m:\u001b[0m\u001b[1;33m\u001b[0m\u001b[1;33m\u001b[0m\u001b[0m\n\u001b[1;32m--> 651\u001b[1;33m             \u001b[1;32mraise\u001b[0m \u001b[0mValueError\u001b[0m\u001b[1;33m(\u001b[0m\u001b[1;34m\"Only supported for TrueType fonts\"\u001b[0m\u001b[1;33m)\u001b[0m\u001b[1;33m\u001b[0m\u001b[1;33m\u001b[0m\u001b[0m\n\u001b[0m\u001b[0;32m    652\u001b[0m         \u001b[0mmode\u001b[0m \u001b[1;33m=\u001b[0m \u001b[1;34m\"RGBA\"\u001b[0m \u001b[1;32mif\u001b[0m \u001b[0membedded_color\u001b[0m \u001b[1;32melse\u001b[0m \u001b[0mself\u001b[0m\u001b[1;33m.\u001b[0m\u001b[0mfontmode\u001b[0m\u001b[1;33m\u001b[0m\u001b[1;33m\u001b[0m\u001b[0m\n\u001b[0;32m    653\u001b[0m         bbox = font.getbbox(\n",
      "\u001b[1;31mValueError\u001b[0m: Only supported for TrueType fonts"
     ]
    }
   ],
   "source": [
    "profile.to_file(\"data_quality_report.html\")"
   ]
  },
  {
   "cell_type": "code",
   "execution_count": null,
   "metadata": {},
   "outputs": [],
   "source": []
  }
 ],
 "metadata": {
  "kernelspec": {
   "display_name": "minimal_ds",
   "language": "python",
   "name": "python3"
  },
  "language_info": {
   "codemirror_mode": {
    "name": "ipython",
    "version": 3
   },
   "file_extension": ".py",
   "mimetype": "text/x-python",
   "name": "python",
   "nbconvert_exporter": "python",
   "pygments_lexer": "ipython3",
   "version": "3.9.7"
  },
  "orig_nbformat": 4
 },
 "nbformat": 4,
 "nbformat_minor": 2
}
